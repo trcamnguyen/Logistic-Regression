{
  "metadata": {
    "kernelspec": {
      "display_name": "Python 3",
      "language": "python",
      "name": "python3"
    },
    "language_info": {
      "name": "python",
      "version": "3.11.13",
      "mimetype": "text/x-python",
      "codemirror_mode": {
        "name": "ipython",
        "version": 3
      },
      "pygments_lexer": "ipython3",
      "nbconvert_exporter": "python",
      "file_extension": ".py"
    },
    "colab": {
      "provenance": [],
      "include_colab_link": true
    },
    "kaggle": {
      "accelerator": "none",
      "dataSources": [
        {
          "sourceId": 4140,
          "sourceType": "datasetVersion",
          "datasetId": 2477
        }
      ],
      "dockerImageVersionId": 31089,
      "isInternetEnabled": true,
      "language": "python",
      "sourceType": "notebook",
      "isGpuEnabled": false
    }
  },
  "nbformat_minor": 0,
  "nbformat": 4,
  "cells": [
    {
      "cell_type": "markdown",
      "metadata": {
        "id": "view-in-github",
        "colab_type": "text"
      },
      "source": [
        "<a href=\"https://colab.research.google.com/github/trcamnguyen/Logistic-Regression/blob/main/Logistic_Regression.ipynb\" target=\"_parent\"><img src=\"https://colab.research.google.com/assets/colab-badge.svg\" alt=\"Open In Colab\"/></a>"
      ]
    },
    {
      "cell_type": "markdown",
      "source": [
        "[![Open In Colab](https://colab.research.google.com/assets/colab-badge.svg)](https://colab.research.google.com/github/username/repo-name/blob/main/notebook.ipynb)\n"
      ],
      "metadata": {
        "id": "qcwrCbfQ9y3s"
      }
    },
    {
      "cell_type": "markdown",
      "source": [
        "# Logistic Regression for Text Classification\n",
        "\n",
        "## Overview\n",
        "This notebook implements and evaluates **Logistic Regression models** for text classification tasks:\n",
        "- **Binary Logistic Regression**: Sentiment analysis (positive vs negative)\n",
        "- **Multinomial Logistic Regression**: Multi-class text classification (softmax regression)\n",
        "\n",
        "## Objectives\n",
        "- Build Logistic Regression models for both binary and multi-class text data\n",
        "- Understand differences between binary vs multinomial logistic regression\n",
        "- Evaluate model quality with accuracy, precision, recall, F1-score, and confusion matrix\n",
        "\n",
        "\n",
        "\n",
        "---\n",
        "\n",
        "## Expected Outcomes\n",
        "- **Binary Logistic Regression**: Effective sentiment classifier with clear positive/negative separation  \n",
        "- **Multinomial Logistic Regression**: Generalized model for multi-class problems using softmax  \n",
        "- **Evaluation Metrics**: Demonstrated on both binary and multi-class datasets  \n",
        "- **Insights**: Comparison of logistic regression behavior in binary vs multinomial settings  \n",
        "\n",
        "---\n"
      ],
      "metadata": {
        "id": "0-1GmK0gD8sN"
      }
    },
    {
      "cell_type": "code",
      "source": [
        "import math\n",
        "import pandas as pd\n",
        "import numpy as np\n",
        "import seaborn as sns\n",
        "from collections import Counter\n",
        "import re\n",
        "import matplotlib.pyplot as plt\n",
        "from sklearn.metrics import accuracy_score, precision_score, recall_score, f1_score\n",
        "from sklearn.model_selection import train_test_split\n",
        "import random\n",
        "from sklearn.linear_model import LogisticRegression\n",
        "from sklearn.linear_model import SGDClassifier\n",
        "from sklearn.metrics import classification_report, confusion_matrix\n",
        "from scipy.special import softmax as sftmx\n",
        "random.seed(123)\n",
        "np.random.seed(123)"
      ],
      "metadata": {
        "ExecuteTime": {
          "end_time": "2020-02-15T14:31:36.292691Z",
          "start_time": "2020-02-15T14:31:35.549108Z"
        },
        "id": "tfe_F1IAItkk",
        "trusted": true,
        "execution": {
          "iopub.status.busy": "2025-10-02T12:23:58.691471Z",
          "iopub.execute_input": "2025-10-02T12:23:58.692180Z",
          "iopub.status.idle": "2025-10-02T12:23:58.698008Z",
          "shell.execute_reply.started": "2025-10-02T12:23:58.692151Z",
          "shell.execute_reply": "2025-10-02T12:23:58.696870Z"
        }
      },
      "outputs": [],
      "execution_count": 82
    },
    {
      "cell_type": "markdown",
      "source": [
        "# Part I. Binary Logistic Regression (Sentiment Analysis)\n",
        "\n",
        "### Step 1. **Data Loading**\n",
        "- **Dataset**: Import sentiment dataset (e.g., Sentiment140 or custom text dataset)\n",
        "- **File Access**: Load text samples and corresponding binary sentiment labels\n",
        "- **Initial Inspection**: Preview data distribution (positive vs negative)\n",
        "\n",
        "---\n",
        "\n",
        "### Step 2. **Data Preprocessing**\n",
        "- **Text Cleaning**: Remove punctuation, digits, and special characters  \n",
        "- **Normalization**: Convert to lowercase  \n",
        "- **Tokenization**: Split text into words or tokens  \n",
        "- **Stopword Removal** *(optional)*  \n",
        "\n",
        "---\n",
        "\n",
        "### Step 3. **Feature Representation**\n",
        "- **Bag-of-Words**: Convert tokenized text into numerical feature vectors  \n",
        "- **Vocabulary Construction**: Build word-index mapping  \n",
        "- **Binary/Count Representation**: Represent presence or frequency of terms  \n",
        "\n",
        "---\n",
        "\n",
        "### Step 4. **Model Construction**\n",
        "- **Hypothesis Function**:  \n",
        "  $$ h_\\theta(x) = \\frac{1}{1 + e^{-\\theta^T x}} $$\n",
        "- **Loss Function (Binary Cross-Entropy)**:  \n",
        "  $$ J(\\theta) = -\\frac{1}{m}\\sum_{i=1}^m \\Big[y^{(i)}\\log h_\\theta(x^{(i)}) + (1-y^{(i)})\\log(1-h_\\theta(x^{(i)}))\\Big] $$\n",
        "- **Training**: Fit logistic regression classifier on binary labels  \n",
        "\n",
        "---\n",
        "\n",
        "### Step 5. **Evaluation**\n",
        "- **Metrics**: Accuracy, Precision, Recall, F1-score  \n",
        "- **Confusion Matrix**: Visualize predictions vs ground truth  \n",
        "- **Error Analysis**: Inspect misclassified examples"
      ],
      "metadata": {
        "id": "OdgfwX6pItkm"
      }
    },
    {
      "cell_type": "code",
      "source": [
        "import kagglehub\n",
        "# Download Sentiment140\n",
        "path = kagglehub.dataset_download(\"kazanova/sentiment140\")\n",
        "file_path = path + \"/training.1600000.processed.noemoticon.csv\"\n",
        "\n",
        "cols = ['target','id','date','flag','user','text']\n",
        "df = pd.read_csv(file_path, encoding='ISO-8859-1', names=cols)\n",
        "\n",
        "df = df[['text','target']]\n",
        "df['target'] = df['target'].replace(4,1)\n",
        "\n",
        "df_small = df.sample(n=10000, random_state=42)\n",
        "\n",
        "# Split train/dev/test\n",
        "train_df, test_df = train_test_split(df_small, test_size=0.2, random_state=42, stratify=df_small['target'])\n",
        "train_df, dev_df = train_test_split(train_df, test_size=0.1, random_state=42, stratify=train_df['target'])\n",
        "\n",
        "data_tr_textlist = train_df[['text']].values.tolist()\n",
        "ArrayTR = train_df[['target']].to_numpy()\n",
        "\n",
        "data_dev_textlist = dev_df[['text']].values.tolist()\n",
        "ArrayDev = dev_df[['target']].to_numpy()\n",
        "\n",
        "data_test_textlist = test_df[['text']].values.tolist()\n",
        "ArrayTest = test_df[['target']].to_numpy()\n",
        "\n",
        "print(\"Binary dataset size:\", len(df_small))\n",
        "print(\"Train/Dev/Test:\", len(data_tr_textlist), len(data_dev_textlist), len(data_test_textlist))\n"
      ],
      "metadata": {
        "colab": {
          "base_uri": "https://localhost:8080/"
        },
        "id": "hyd1BBp1Itkp",
        "outputId": "f268f6fc-d597-4a45-91a2-8ad3133b8af9",
        "trusted": true,
        "execution": {
          "iopub.status.busy": "2025-10-02T12:24:02.361903Z",
          "iopub.execute_input": "2025-10-02T12:24:02.362768Z",
          "iopub.status.idle": "2025-10-02T12:24:07.176997Z",
          "shell.execute_reply.started": "2025-10-02T12:24:02.362738Z",
          "shell.execute_reply": "2025-10-02T12:24:07.176011Z"
        }
      },
      "outputs": [
        {
          "output_type": "stream",
          "name": "stdout",
          "text": [
            "Using Colab cache for faster access to the 'sentiment140' dataset.\n",
            "Binary dataset size: 10000\n",
            "Train/Dev/Test: 7200 800 2000\n"
          ]
        }
      ],
      "execution_count": 3
    },
    {
      "cell_type": "code",
      "source": [
        "stop_words = ['a','in','on','at','and','or',\n",
        "              'to', 'the', 'of', 'an', 'by',\n",
        "              'as', 'is', 'was', 'were', 'been', 'be',\n",
        "              'are','for', 'this', 'that', 'these', 'those', 'you', 'i',\n",
        "             'it', 'he', 'she', 'we', 'they', 'will', 'have', 'has',\n",
        "              'do', 'did', 'can', 'could', 'who', 'which', 'what',\n",
        "             'his', 'her', 'they', 'them', 'from', 'with', 'its','also','so','there','their','The']"
      ],
      "metadata": {
        "ExecuteTime": {
          "end_time": "2020-02-15T14:17:31.860420Z",
          "start_time": "2020-02-15T14:17:31.855439Z"
        },
        "id": "HRspqqpRItkt",
        "trusted": true,
        "execution": {
          "iopub.status.busy": "2025-10-02T12:24:09.227122Z",
          "iopub.execute_input": "2025-10-02T12:24:09.227443Z",
          "iopub.status.idle": "2025-10-02T12:24:09.234062Z",
          "shell.execute_reply.started": "2025-10-02T12:24:09.227418Z",
          "shell.execute_reply": "2025-10-02T12:24:09.232544Z"
        }
      },
      "outputs": [],
      "execution_count": 4
    },
    {
      "cell_type": "markdown",
      "source": [
        "### N-gram extraction from a document\n",
        "\n",
        "You first need to implement the `extract_ngrams` function. It takes as input:\n",
        "- `x_raw`: a string corresponding to the raw text of a document\n",
        "- `ngram_range`: a tuple of two integers denoting the type of ngrams you want to extract, e.g. (1,2) denotes extracting unigrams and bigrams.\n",
        "- `token_pattern`: a string to be used within a regular expression to extract all tokens. Note that data is already tokenised so you could opt for a simple white space tokenisation.\n",
        "- `stop_words`: a list of stop words\n",
        "- `vocab`: a given vocabulary. It should be used to extract specific features.\n",
        "\n",
        "and returns:\n",
        "\n",
        "- a list of all extracted features.\n",
        "\n",
        "See the examples below to see how this function should work."
      ],
      "metadata": {
        "id": "lUOnMJC_Itkt"
      }
    },
    {
      "cell_type": "code",
      "source": [
        "def extract_ngrams(x_raw, ngram_range=(1,3), token_pattern=r'\\b[A-Za-z][A-Za-z]+\\b', stop_words= stop_words, vocab=set()):\n",
        "\n",
        "\n",
        "    ####Tokenisation#######\n",
        "    com = re.compile(token_pattern)\n",
        "    x_raw = com.findall(x_raw)\n",
        "    # vocab = re.findall(token_pattern,vocab)\n",
        "\n",
        "   # x_raw = list(x_raw.split())     #Split Sentence into seperate words then store as list\n",
        "\n",
        "\n",
        " #####Remove Stop words########\n",
        "    x_raw=[word for word in x_raw if word not in stop_words]\n",
        "    for word in stop_words:\n",
        "        for word2 in x_raw:\n",
        "            if word == word2:\n",
        "                x_raw.remove(word)\n",
        "\n",
        "\n",
        "\n",
        "    #print(vocab)\n",
        "\n",
        "#######Return Vocab#####\n",
        "    #vocab needs to normalised\n",
        "    vocab1 = str(vocab)\n",
        "    vocab1 = re.findall(token_pattern,vocab1)\n",
        "    commachar = \",\"\n",
        "    spacechar = ''\n",
        "    if ((len(vocab1)) != 0): #Check if set is empty\n",
        "        vocablist = []\n",
        "        for word in x_raw:\n",
        "            for word2 in vocab1:\n",
        "                if ((word == word2) & (word != commachar) & (word != spacechar)& (word2 not in vocablist)): #remove commas & match words in text &vocab\n",
        "                    vocablist.append(word.replace(\" \", \"\")) ## remove whitespace characters\n",
        "                   # print(vocablist)\n",
        "\n",
        "    noofngrams=[]\n",
        "    ngrams_list = []\n",
        "    if ngram_range == (1,3):\n",
        "        noofngrams= [1,2,3]\n",
        "    if ngram_range == (1,2):\n",
        "        noofngrams= [1,2]\n",
        "\n",
        "    y =[]\n",
        "\n",
        "    #Extract Ngrams\n",
        "    for n in noofngrams:\n",
        "        if (len(vocab)) == 0:\n",
        "                for num in range(0, len(x_raw)):\n",
        "                    ngram = ' '.join(x_raw[num:num + n])\n",
        "                    #if ngram not in ngrams_list:\n",
        "                    if ((ngram != '')):\n",
        "                        ngrams_list.append(ngram)\n",
        "                        if ngram not in y:\n",
        "                            y.append(ngram)\n",
        "\n",
        "        if (len(vocab)) != 0:\n",
        "                for n in range(0,len(vocab1)):\n",
        "                    for num in range(0, len(vocablist)):\n",
        "                        if len(vocablist[num]) != 0:\n",
        "                                ngram = ' '.join(vocablist[num:num + n])\n",
        "\n",
        "                                if ((ngram != '')): # ((ngram not in ngrams_list) &\n",
        "                                    ngrams_list.append(ngram)\n",
        "\n",
        "                                    if ngram not in y:\n",
        "                                        y.append(ngram)\n",
        "\n",
        "    x= ngrams_list\n",
        "    return x,y # y is unique ngram list, x is list including duplicates for vectorisation"
      ],
      "metadata": {
        "id": "CrI3-VziItku",
        "trusted": true,
        "execution": {
          "iopub.status.busy": "2025-10-02T12:24:11.865374Z",
          "iopub.execute_input": "2025-10-02T12:24:11.865715Z",
          "iopub.status.idle": "2025-10-02T12:24:11.877557Z",
          "shell.execute_reply.started": "2025-10-02T12:24:11.865692Z",
          "shell.execute_reply": "2025-10-02T12:24:11.876617Z"
        }
      },
      "outputs": [],
      "execution_count": 5
    },
    {
      "cell_type": "code",
      "source": [
        "x1,y1 = extract_ngrams(\"this is a great movie to watch\",\n",
        "               ngram_range=(1,3),\n",
        "               stop_words=stop_words)\n",
        "print(y1)"
      ],
      "metadata": {
        "ExecuteTime": {
          "end_time": "2020-02-15T14:17:33.680114Z",
          "start_time": "2020-02-15T14:17:33.675339Z"
        },
        "colab": {
          "base_uri": "https://localhost:8080/"
        },
        "id": "FmbRpQasItkw",
        "outputId": "6def676c-872f-4a52-b430-d1851c50915a",
        "trusted": true,
        "execution": {
          "iopub.status.busy": "2025-10-02T12:24:14.774636Z",
          "iopub.execute_input": "2025-10-02T12:24:14.774969Z",
          "iopub.status.idle": "2025-10-02T12:24:14.780949Z",
          "shell.execute_reply.started": "2025-10-02T12:24:14.774949Z",
          "shell.execute_reply": "2025-10-02T12:24:14.779919Z"
        }
      },
      "outputs": [
        {
          "output_type": "stream",
          "name": "stdout",
          "text": [
            "['great', 'movie', 'watch', 'great movie', 'movie watch', 'great movie watch']\n"
          ]
        }
      ],
      "execution_count": 6
    },
    {
      "cell_type": "markdown",
      "source": [
        "Note that it is OK to represent n-grams using lists instead of tuples: e.g. `['great', ['great', 'movie']]`"
      ],
      "metadata": {
        "id": "jWYnA9xOItky"
      }
    },
    {
      "cell_type": "markdown",
      "source": [
        "### Create a vocabulary of n-grams\n",
        "\n",
        "Then the `get_vocab` function will be used to (1) create a vocabulary of ngrams; (2) count the document frequencies of ngrams; (3) their raw frequency. It takes as input:\n",
        "- `X_raw`: a list of strings each corresponding to the raw text of a document\n",
        "- `ngram_range`: a tuple of two integers denoting the type of ngrams you want to extract, e.g. (1,2) denotes extracting unigrams and bigrams.\n",
        "- `token_pattern`: a string to be used within a regular expression to extract all tokens. Note that data is already tokenised so you could opt for a simple white space tokenisation.\n",
        "- `stop_words`: a list of stop words\n",
        "- `vocab`: a given vocabulary. It should be used to extract specific features.\n",
        "- `min_df`: keep ngrams with a minimum document frequency.\n",
        "- `keep_topN`: keep top-N more frequent ngrams.\n",
        "\n",
        "and returns:\n",
        "\n",
        "- `vocab`: a set of the n-grams that will be used as features.\n",
        "- `df`: a Counter (or dict) that contains ngrams as keys and their corresponding document frequency as values.\n",
        "- `ngram_counts`: counts of each ngram in vocab\n",
        "\n",
        "Hint: it should make use of the `extract_ngrams` function."
      ],
      "metadata": {
        "id": "8un6kwCMItkz"
      }
    },
    {
      "cell_type": "code",
      "source": [
        "def get_vocab(X_raw, ngram_range=(1,3), token_pattern=r'\\b[A-Za-z][A-Za-z]+\\b', min_df=0, keep_topN=0, stop_words=[]):\n",
        "\n",
        "    #Define empty placeholder variables\n",
        "    df=  Counter()\n",
        "    ngram_counts = Counter()\n",
        "    vocab = set()\n",
        "    df1 = list()\n",
        "    df2 = Counter()\n",
        "    #com = re.compile(token_pattern)\n",
        "    #X_raw = com.findall(X_raw)\n",
        "    vocab1 = set()\n",
        "\n",
        "    for x_raw in X_raw:\n",
        "        x_raw = str(x_raw)\n",
        "        com = re.compile(token_pattern)\n",
        "        x_raw = com.findall(x_raw)\n",
        "        x_raw = str(x_raw)\n",
        "        x_raw.replace(\" \", \"\")\n",
        "        x_raw.replace(\"[\",\"\")\n",
        "        x_raw.replace(\"]\",\"\")\n",
        "        y,x = extract_ngrams(x_raw, ngram_range, token_pattern, stop_words)\n",
        "        #calling extract_ngrams deals with tokenisation,stop words,ngram range and ngram extraction\n",
        "        for item in x:\n",
        "            df[item] += 1\n",
        "            if df[item]> min_df: # Only keep above the minimum\n",
        "                df2[item] += 1\n",
        "\n",
        "            if (str(item) not in vocab) & (len(vocab) < keep_topN): #stop adding to vocab once cap is reached\n",
        "            #vocab.add(str(x))\n",
        "                 vocab.add(str(item)) #need to remove brackets as i think its passing\n",
        "\n",
        "        for string in x:\n",
        "            if string in ngram_counts:\n",
        "                    ngram_counts[string] += 1 #len 998359\n",
        "            else:\n",
        "                    ngram_counts[string] = 1\n",
        "    #df1.append(df2.most_common(keep_topN)) #Keep only the specified amount of N\n",
        "    #ngram_counts.append(ngram_counts.most_common(keep_topN))\n",
        "    #vocab = list(vocab)\n",
        "    df = df2\n",
        "\n",
        "\n",
        "#######assign top ngrams to vocab set###########################\n",
        "   # vocab1 = set()\n",
        "    for item in ngram_counts.most_common(keep_topN):\n",
        "\n",
        "            # type(item)) item is a tupple\n",
        "        if (len(vocab1) < keep_topN)  :\n",
        "                vocab1.add(item[0])\n",
        "\n",
        "    vocab = vocab1\n",
        "    return vocab, df, ngram_counts"
      ],
      "metadata": {
        "ExecuteTime": {
          "end_time": "2020-02-15T14:17:35.821240Z",
          "start_time": "2020-02-15T14:17:35.814722Z"
        },
        "id": "nfhxA8jEItk0",
        "trusted": true,
        "execution": {
          "iopub.status.busy": "2025-10-02T12:24:17.325291Z",
          "iopub.execute_input": "2025-10-02T12:24:17.325640Z",
          "iopub.status.idle": "2025-10-02T12:24:17.334305Z",
          "shell.execute_reply.started": "2025-10-02T12:24:17.325606Z",
          "shell.execute_reply": "2025-10-02T12:24:17.333276Z"
        }
      },
      "outputs": [],
      "execution_count": 7
    },
    {
      "cell_type": "markdown",
      "source": [
        "Now you should use `get_vocab` to create your vocabulary and get document and raw frequencies of n-grams:"
      ],
      "metadata": {
        "id": "dYwdXNWZItk0"
      }
    },
    {
      "cell_type": "code",
      "source": [
        "vocab, df, ngram_counts = get_vocab(data_tr_textlist, ngram_range=(1,3), keep_topN=5000, stop_words=stop_words)\n",
        "print(len(vocab))\n",
        "print()\n",
        "print(list(vocab)[:100])\n",
        "print()\n",
        "print(df.most_common()[:10])"
      ],
      "metadata": {
        "ExecuteTime": {
          "end_time": "2020-02-15T14:17:39.319793Z",
          "start_time": "2020-02-15T14:17:36.836545Z"
        },
        "scrolled": true,
        "colab": {
          "base_uri": "https://localhost:8080/"
        },
        "id": "1BCE_lc-Itk1",
        "outputId": "a64876fe-6ab3-4f37-bac6-ce648ba6c88d",
        "trusted": true,
        "execution": {
          "iopub.status.busy": "2025-10-02T12:24:20.217581Z",
          "iopub.execute_input": "2025-10-02T12:24:20.217925Z",
          "iopub.status.idle": "2025-10-02T12:24:21.221749Z",
          "shell.execute_reply.started": "2025-10-02T12:24:20.217902Z",
          "shell.execute_reply": "2025-10-02T12:24:21.220789Z"
        }
      },
      "outputs": [
        {
          "output_type": "stream",
          "name": "stdout",
          "text": [
            "5000\n",
            "\n",
            "['conversation', 'gotta go', 'hadn', 'recovering', 'Sun', 'had dog', 'using', 'if like', 'learn how', 'visit', 'theme', 'Help', 'turned', 'admit', 'Cant wait', 'But no', 'my office', 'kinda sad', 'whole thing', 'posted', 'la', 'challenge', 'reason', 'every', 'just go', 'Busy', 'one me', 'survived', 'trust', 'battery', 'margaritas', 'Maybe next', 'feels', 'bringing', 'Much', 'tired my', 'Wow', 'flying', 'Liverpool', 'cousin', 'yet', 'platform', 'things', 'skin', 'daughter', 'homee', 'parents', 'Went', 'day using www', 'Men', 'asking', 'least', 'if re', 'Dinner', 'studies', 'tears', 'feet hurt', 'much', 'studio', 'vote', 'work now', 'cares', 'but still', 'not good', 'some reason', 'awhile', 'me some', 'good night sleep', 'invite', 'gift', 'drama', 'Cant', 'during', 'server', 'wanna', 'easily', 've always', 'nonsense', 'out here', 'MORE', 'all my followers', 'Coffee', 'Yeah', 'wanting', 'unfair', 'com my', 'see play', 'sound', 'burnt', 'smile my face', 'cd', 'me please', 'Aww man', 'himself', 'me right', 'nail', 'XD', 'smells', 'Brazil', 'answer me']\n",
            "\n",
            "[('my', 1124), ('me', 640), ('but', 499), ('not', 419), ('just', 416), ('up', 378), ('get', 340), ('good', 339), ('now', 332), ('all', 332)]\n"
          ]
        }
      ],
      "execution_count": 8
    },
    {
      "cell_type": "markdown",
      "source": [
        "Then, you need to create vocabulary id -> word and id -> word dictionaries for reference:"
      ],
      "metadata": {
        "id": "aDUK6EtxItk2"
      }
    },
    {
      "cell_type": "code",
      "source": [
        "list_of_vocab = list(vocab)\n",
        "vocab_id = {i:list_of_vocab[i] for i in range(len(vocab))}"
      ],
      "metadata": {
        "ExecuteTime": {
          "end_time": "2020-02-15T14:17:39.326811Z",
          "start_time": "2020-02-15T14:17:39.322256Z"
        },
        "id": "-eU1uRMgItk2",
        "trusted": true,
        "execution": {
          "iopub.status.busy": "2025-10-02T12:24:23.668870Z",
          "iopub.execute_input": "2025-10-02T12:24:23.669167Z",
          "iopub.status.idle": "2025-10-02T12:24:23.676168Z",
          "shell.execute_reply.started": "2025-10-02T12:24:23.669145Z",
          "shell.execute_reply": "2025-10-02T12:24:23.675225Z"
        }
      },
      "outputs": [],
      "execution_count": 9
    },
    {
      "cell_type": "markdown",
      "source": [
        "Now you should be able to extract n-grams for each text in the training, development and test sets:"
      ],
      "metadata": {
        "id": "i6LEY9FnItk2"
      }
    },
    {
      "cell_type": "markdown",
      "source": [
        "## Vectorise documents"
      ],
      "metadata": {
        "id": "islhfNHEItk3"
      }
    },
    {
      "cell_type": "markdown",
      "source": [
        "Next, write a function `vectoriser` to obtain Bag-of-ngram representations for a list of documents. The function should take as input:\n",
        "- `X_ngram`: a list of texts (documents), where each text (doc) is represented as list of n-grams in the `vocab`\n",
        "- `vocab`: a set of n-grams to be used for representing the documents\n",
        "\n",
        "and return:\n",
        "- `X_vec`: an array with dimensionality N x |vocab| where N is the number of documents and |vocab| is the size of the vocabulary. Each element of the array should represent the frequency of a given n-gram in a document.\n"
      ],
      "metadata": {
        "id": "Mw8BuNP2Itk4"
      }
    },
    {
      "cell_type": "code",
      "source": [
        "#Take training set as input\n",
        "#divide into doc\n",
        "#extract each ngram for each doc\n",
        "#Count ngram in doc using counter\n",
        "#iterate counter through the vocab and assign counts in that order\n",
        "def Extract_X_ngram(data_tr_textlist):\n",
        "    X_ngram =[]\n",
        "    for line in data_tr_textlist:\n",
        "        ngram,p = list(extract_ngrams(str(line),stop_words= stop_words))\n",
        "        X_ngram.append(ngram)\n",
        "    return X_ngram\n",
        "\n",
        "X_ngram = Extract_X_ngram(data_tr_textlist)\n",
        "#print(Counter(X_ngram[0]))"
      ],
      "metadata": {
        "id": "c9qF2QbIItk4",
        "trusted": true,
        "execution": {
          "iopub.status.busy": "2025-10-02T12:24:25.840387Z",
          "iopub.execute_input": "2025-10-02T12:24:25.840766Z",
          "iopub.status.idle": "2025-10-02T12:24:26.191870Z",
          "shell.execute_reply.started": "2025-10-02T12:24:25.840728Z",
          "shell.execute_reply": "2025-10-02T12:24:26.190963Z"
        }
      },
      "outputs": [],
      "execution_count": 10
    },
    {
      "cell_type": "code",
      "source": [
        "def vectorise(X_ngram, vocab):\n",
        "    N = len(X_ngram) #Get Dimensions #1400 x 5000 for training set\n",
        "    SizeOfSet = len(vocab)\n",
        "    X_vec = np.zeros((N,SizeOfSet))\n",
        "    counter_vect = Counter()\n",
        "    i = 0\n",
        "    temp_loc =0\n",
        "\n",
        "    for row in X_ngram:\n",
        "        counter_vect = Counter(row)\n",
        "        #print(counter_vect)\n",
        "        for item in row:\n",
        "            if item in vocab:\n",
        "                temp_loc= list_of_vocab.index(item) #get vocab_id of word\n",
        "                X_vec[i][temp_loc] = counter_vect[item] #assign count corresponding to vocabID\n",
        "        i+=1\n",
        "    return X_vec"
      ],
      "metadata": {
        "ExecuteTime": {
          "end_time": "2020-02-15T14:17:40.219201Z",
          "start_time": "2020-02-15T14:17:40.215129Z"
        },
        "id": "pjOL2ga8Itk5",
        "trusted": true,
        "execution": {
          "iopub.status.busy": "2025-10-02T12:24:27.950323Z",
          "iopub.execute_input": "2025-10-02T12:24:27.950655Z",
          "iopub.status.idle": "2025-10-02T12:24:27.956864Z",
          "shell.execute_reply.started": "2025-10-02T12:24:27.950629Z",
          "shell.execute_reply": "2025-10-02T12:24:27.955855Z"
        }
      },
      "outputs": [],
      "execution_count": 11
    },
    {
      "cell_type": "markdown",
      "source": [
        "#### Count vectors"
      ],
      "metadata": {
        "id": "dT4t9meMItk6"
      }
    },
    {
      "cell_type": "code",
      "source": [
        "X_tr_count = vectorise(X_ngram,vocab)\n",
        "print(X_tr_count)"
      ],
      "metadata": {
        "ExecuteTime": {
          "end_time": "2020-02-15T14:17:28.145788Z",
          "start_time": "2020-02-15T14:17:28.066100Z"
        },
        "colab": {
          "base_uri": "https://localhost:8080/"
        },
        "id": "ER9lCbWHItk7",
        "outputId": "32d07dd0-1ae9-4f2f-bb20-7320cbb1e853",
        "trusted": true,
        "execution": {
          "iopub.status.busy": "2025-10-02T12:24:31.968177Z",
          "iopub.execute_input": "2025-10-02T12:24:31.968489Z",
          "iopub.status.idle": "2025-10-02T12:24:35.664298Z",
          "shell.execute_reply.started": "2025-10-02T12:24:31.968462Z",
          "shell.execute_reply": "2025-10-02T12:24:35.662966Z"
        }
      },
      "outputs": [
        {
          "output_type": "stream",
          "name": "stdout",
          "text": [
            "[[0. 0. 0. ... 0. 0. 0.]\n",
            " [0. 0. 0. ... 0. 0. 0.]\n",
            " [0. 0. 0. ... 0. 0. 0.]\n",
            " ...\n",
            " [0. 0. 0. ... 0. 0. 0.]\n",
            " [0. 0. 0. ... 0. 0. 0.]\n",
            " [0. 0. 0. ... 0. 0. 0.]]\n"
          ]
        }
      ],
      "execution_count": 12
    },
    {
      "cell_type": "code",
      "source": [
        "X_tr_count.shape #(1400, 5000)\n",
        "type(X_tr_count)"
      ],
      "metadata": {
        "ExecuteTime": {
          "end_time": "2020-02-15T14:17:42.004808Z",
          "start_time": "2020-02-15T14:17:42.001555Z"
        },
        "id": "B3QsyjK4Itk7",
        "trusted": true,
        "execution": {
          "iopub.status.busy": "2025-10-02T12:24:35.665996Z",
          "iopub.execute_input": "2025-10-02T12:24:35.666371Z",
          "iopub.status.idle": "2025-10-02T12:24:35.675494Z",
          "shell.execute_reply.started": "2025-10-02T12:24:35.666338Z",
          "shell.execute_reply": "2025-10-02T12:24:35.673690Z"
        },
        "colab": {
          "base_uri": "https://localhost:8080/"
        },
        "outputId": "b231e846-b432-4f9d-92c0-81e6b91791cc"
      },
      "outputs": [
        {
          "output_type": "execute_result",
          "data": {
            "text/plain": [
              "numpy.ndarray"
            ]
          },
          "metadata": {},
          "execution_count": 13
        }
      ],
      "execution_count": 13
    },
    {
      "cell_type": "code",
      "source": [
        "X_tr_count[:2,:50]"
      ],
      "metadata": {
        "ExecuteTime": {
          "end_time": "2020-02-15T14:17:42.010525Z",
          "start_time": "2020-02-15T14:17:42.006309Z"
        },
        "id": "22q2MPT6Itk8",
        "trusted": true,
        "execution": {
          "iopub.status.busy": "2025-10-02T12:24:37.522163Z",
          "iopub.execute_input": "2025-10-02T12:24:37.522458Z",
          "iopub.status.idle": "2025-10-02T12:24:37.530561Z",
          "shell.execute_reply.started": "2025-10-02T12:24:37.522437Z",
          "shell.execute_reply": "2025-10-02T12:24:37.529384Z"
        },
        "colab": {
          "base_uri": "https://localhost:8080/"
        },
        "outputId": "59fd3d3b-6e00-47c8-9efc-c1a8ec58b43c"
      },
      "outputs": [
        {
          "output_type": "execute_result",
          "data": {
            "text/plain": [
              "array([[0., 0., 0., 0., 0., 0., 0., 0., 0., 0., 0., 0., 0., 0., 0., 0.,\n",
              "        0., 0., 0., 0., 0., 0., 0., 0., 0., 0., 0., 0., 0., 0., 0., 0.,\n",
              "        0., 0., 0., 0., 0., 0., 0., 0., 0., 0., 0., 0., 0., 0., 0., 0.,\n",
              "        0., 0.],\n",
              "       [0., 0., 0., 0., 0., 0., 0., 0., 0., 0., 0., 0., 0., 0., 0., 0.,\n",
              "        0., 0., 0., 0., 0., 0., 0., 0., 0., 0., 0., 0., 0., 0., 0., 0.,\n",
              "        0., 0., 0., 0., 0., 0., 0., 0., 0., 0., 0., 0., 0., 0., 0., 0.,\n",
              "        0., 0.]])"
            ]
          },
          "metadata": {},
          "execution_count": 14
        }
      ],
      "execution_count": 14
    },
    {
      "cell_type": "markdown",
      "source": [
        "## Train and Evaluate Logistic Regression with Count vectors\n"
      ],
      "metadata": {
        "id": "A9z1AbenItlL"
      }
    },
    {
      "cell_type": "code",
      "source": [
        "##Calculate X_dev_count & X_test_count\n",
        "XDev_ngram = Extract_X_ngram(data_dev_textlist)\n",
        "X_dev_count = vectorise(XDev_ngram,vocab)\n",
        "\n",
        "XTest_ngram = Extract_X_ngram(data_test_textlist)\n",
        "X_test_count = vectorise(XTest_ngram,vocab)"
      ],
      "metadata": {
        "trusted": true,
        "execution": {
          "iopub.status.busy": "2025-10-02T12:24:45.673280Z",
          "iopub.execute_input": "2025-10-02T12:24:45.673617Z",
          "iopub.status.idle": "2025-10-02T12:24:47.182539Z",
          "shell.execute_reply.started": "2025-10-02T12:24:45.673574Z",
          "shell.execute_reply": "2025-10-02T12:24:47.181451Z"
        },
        "id": "j6kDnnbU531y"
      },
      "outputs": [],
      "execution_count": 15
    },
    {
      "cell_type": "code",
      "source": [
        "clf = LogisticRegression(\n",
        "    # max_iter=1000,\n",
        "    # solver=\"lbfgs\",\n",
        "    # multi_class=\"auto\"\n",
        ")\n",
        "clf.fit(X_tr_count, ArrayTR.ravel())  # train"
      ],
      "metadata": {
        "trusted": true,
        "execution": {
          "iopub.status.busy": "2025-10-02T12:24:48.532998Z",
          "iopub.execute_input": "2025-10-02T12:24:48.534366Z",
          "iopub.status.idle": "2025-10-02T12:24:51.442521Z",
          "shell.execute_reply.started": "2025-10-02T12:24:48.534319Z",
          "shell.execute_reply": "2025-10-02T12:24:51.441671Z"
        },
        "colab": {
          "base_uri": "https://localhost:8080/",
          "height": 79
        },
        "id": "ri_xaktB531y",
        "outputId": "bbefd2b6-e7a8-4935-e0da-3813185aea4e"
      },
      "outputs": [
        {
          "output_type": "execute_result",
          "data": {
            "text/plain": [
              "LogisticRegression()"
            ],
            "text/html": [
              "<style>#sk-container-id-1 {\n",
              "  /* Definition of color scheme common for light and dark mode */\n",
              "  --sklearn-color-text: #000;\n",
              "  --sklearn-color-text-muted: #666;\n",
              "  --sklearn-color-line: gray;\n",
              "  /* Definition of color scheme for unfitted estimators */\n",
              "  --sklearn-color-unfitted-level-0: #fff5e6;\n",
              "  --sklearn-color-unfitted-level-1: #f6e4d2;\n",
              "  --sklearn-color-unfitted-level-2: #ffe0b3;\n",
              "  --sklearn-color-unfitted-level-3: chocolate;\n",
              "  /* Definition of color scheme for fitted estimators */\n",
              "  --sklearn-color-fitted-level-0: #f0f8ff;\n",
              "  --sklearn-color-fitted-level-1: #d4ebff;\n",
              "  --sklearn-color-fitted-level-2: #b3dbfd;\n",
              "  --sklearn-color-fitted-level-3: cornflowerblue;\n",
              "\n",
              "  /* Specific color for light theme */\n",
              "  --sklearn-color-text-on-default-background: var(--sg-text-color, var(--theme-code-foreground, var(--jp-content-font-color1, black)));\n",
              "  --sklearn-color-background: var(--sg-background-color, var(--theme-background, var(--jp-layout-color0, white)));\n",
              "  --sklearn-color-border-box: var(--sg-text-color, var(--theme-code-foreground, var(--jp-content-font-color1, black)));\n",
              "  --sklearn-color-icon: #696969;\n",
              "\n",
              "  @media (prefers-color-scheme: dark) {\n",
              "    /* Redefinition of color scheme for dark theme */\n",
              "    --sklearn-color-text-on-default-background: var(--sg-text-color, var(--theme-code-foreground, var(--jp-content-font-color1, white)));\n",
              "    --sklearn-color-background: var(--sg-background-color, var(--theme-background, var(--jp-layout-color0, #111)));\n",
              "    --sklearn-color-border-box: var(--sg-text-color, var(--theme-code-foreground, var(--jp-content-font-color1, white)));\n",
              "    --sklearn-color-icon: #878787;\n",
              "  }\n",
              "}\n",
              "\n",
              "#sk-container-id-1 {\n",
              "  color: var(--sklearn-color-text);\n",
              "}\n",
              "\n",
              "#sk-container-id-1 pre {\n",
              "  padding: 0;\n",
              "}\n",
              "\n",
              "#sk-container-id-1 input.sk-hidden--visually {\n",
              "  border: 0;\n",
              "  clip: rect(1px 1px 1px 1px);\n",
              "  clip: rect(1px, 1px, 1px, 1px);\n",
              "  height: 1px;\n",
              "  margin: -1px;\n",
              "  overflow: hidden;\n",
              "  padding: 0;\n",
              "  position: absolute;\n",
              "  width: 1px;\n",
              "}\n",
              "\n",
              "#sk-container-id-1 div.sk-dashed-wrapped {\n",
              "  border: 1px dashed var(--sklearn-color-line);\n",
              "  margin: 0 0.4em 0.5em 0.4em;\n",
              "  box-sizing: border-box;\n",
              "  padding-bottom: 0.4em;\n",
              "  background-color: var(--sklearn-color-background);\n",
              "}\n",
              "\n",
              "#sk-container-id-1 div.sk-container {\n",
              "  /* jupyter's `normalize.less` sets `[hidden] { display: none; }`\n",
              "     but bootstrap.min.css set `[hidden] { display: none !important; }`\n",
              "     so we also need the `!important` here to be able to override the\n",
              "     default hidden behavior on the sphinx rendered scikit-learn.org.\n",
              "     See: https://github.com/scikit-learn/scikit-learn/issues/21755 */\n",
              "  display: inline-block !important;\n",
              "  position: relative;\n",
              "}\n",
              "\n",
              "#sk-container-id-1 div.sk-text-repr-fallback {\n",
              "  display: none;\n",
              "}\n",
              "\n",
              "div.sk-parallel-item,\n",
              "div.sk-serial,\n",
              "div.sk-item {\n",
              "  /* draw centered vertical line to link estimators */\n",
              "  background-image: linear-gradient(var(--sklearn-color-text-on-default-background), var(--sklearn-color-text-on-default-background));\n",
              "  background-size: 2px 100%;\n",
              "  background-repeat: no-repeat;\n",
              "  background-position: center center;\n",
              "}\n",
              "\n",
              "/* Parallel-specific style estimator block */\n",
              "\n",
              "#sk-container-id-1 div.sk-parallel-item::after {\n",
              "  content: \"\";\n",
              "  width: 100%;\n",
              "  border-bottom: 2px solid var(--sklearn-color-text-on-default-background);\n",
              "  flex-grow: 1;\n",
              "}\n",
              "\n",
              "#sk-container-id-1 div.sk-parallel {\n",
              "  display: flex;\n",
              "  align-items: stretch;\n",
              "  justify-content: center;\n",
              "  background-color: var(--sklearn-color-background);\n",
              "  position: relative;\n",
              "}\n",
              "\n",
              "#sk-container-id-1 div.sk-parallel-item {\n",
              "  display: flex;\n",
              "  flex-direction: column;\n",
              "}\n",
              "\n",
              "#sk-container-id-1 div.sk-parallel-item:first-child::after {\n",
              "  align-self: flex-end;\n",
              "  width: 50%;\n",
              "}\n",
              "\n",
              "#sk-container-id-1 div.sk-parallel-item:last-child::after {\n",
              "  align-self: flex-start;\n",
              "  width: 50%;\n",
              "}\n",
              "\n",
              "#sk-container-id-1 div.sk-parallel-item:only-child::after {\n",
              "  width: 0;\n",
              "}\n",
              "\n",
              "/* Serial-specific style estimator block */\n",
              "\n",
              "#sk-container-id-1 div.sk-serial {\n",
              "  display: flex;\n",
              "  flex-direction: column;\n",
              "  align-items: center;\n",
              "  background-color: var(--sklearn-color-background);\n",
              "  padding-right: 1em;\n",
              "  padding-left: 1em;\n",
              "}\n",
              "\n",
              "\n",
              "/* Toggleable style: style used for estimator/Pipeline/ColumnTransformer box that is\n",
              "clickable and can be expanded/collapsed.\n",
              "- Pipeline and ColumnTransformer use this feature and define the default style\n",
              "- Estimators will overwrite some part of the style using the `sk-estimator` class\n",
              "*/\n",
              "\n",
              "/* Pipeline and ColumnTransformer style (default) */\n",
              "\n",
              "#sk-container-id-1 div.sk-toggleable {\n",
              "  /* Default theme specific background. It is overwritten whether we have a\n",
              "  specific estimator or a Pipeline/ColumnTransformer */\n",
              "  background-color: var(--sklearn-color-background);\n",
              "}\n",
              "\n",
              "/* Toggleable label */\n",
              "#sk-container-id-1 label.sk-toggleable__label {\n",
              "  cursor: pointer;\n",
              "  display: flex;\n",
              "  width: 100%;\n",
              "  margin-bottom: 0;\n",
              "  padding: 0.5em;\n",
              "  box-sizing: border-box;\n",
              "  text-align: center;\n",
              "  align-items: start;\n",
              "  justify-content: space-between;\n",
              "  gap: 0.5em;\n",
              "}\n",
              "\n",
              "#sk-container-id-1 label.sk-toggleable__label .caption {\n",
              "  font-size: 0.6rem;\n",
              "  font-weight: lighter;\n",
              "  color: var(--sklearn-color-text-muted);\n",
              "}\n",
              "\n",
              "#sk-container-id-1 label.sk-toggleable__label-arrow:before {\n",
              "  /* Arrow on the left of the label */\n",
              "  content: \"▸\";\n",
              "  float: left;\n",
              "  margin-right: 0.25em;\n",
              "  color: var(--sklearn-color-icon);\n",
              "}\n",
              "\n",
              "#sk-container-id-1 label.sk-toggleable__label-arrow:hover:before {\n",
              "  color: var(--sklearn-color-text);\n",
              "}\n",
              "\n",
              "/* Toggleable content - dropdown */\n",
              "\n",
              "#sk-container-id-1 div.sk-toggleable__content {\n",
              "  max-height: 0;\n",
              "  max-width: 0;\n",
              "  overflow: hidden;\n",
              "  text-align: left;\n",
              "  /* unfitted */\n",
              "  background-color: var(--sklearn-color-unfitted-level-0);\n",
              "}\n",
              "\n",
              "#sk-container-id-1 div.sk-toggleable__content.fitted {\n",
              "  /* fitted */\n",
              "  background-color: var(--sklearn-color-fitted-level-0);\n",
              "}\n",
              "\n",
              "#sk-container-id-1 div.sk-toggleable__content pre {\n",
              "  margin: 0.2em;\n",
              "  border-radius: 0.25em;\n",
              "  color: var(--sklearn-color-text);\n",
              "  /* unfitted */\n",
              "  background-color: var(--sklearn-color-unfitted-level-0);\n",
              "}\n",
              "\n",
              "#sk-container-id-1 div.sk-toggleable__content.fitted pre {\n",
              "  /* unfitted */\n",
              "  background-color: var(--sklearn-color-fitted-level-0);\n",
              "}\n",
              "\n",
              "#sk-container-id-1 input.sk-toggleable__control:checked~div.sk-toggleable__content {\n",
              "  /* Expand drop-down */\n",
              "  max-height: 200px;\n",
              "  max-width: 100%;\n",
              "  overflow: auto;\n",
              "}\n",
              "\n",
              "#sk-container-id-1 input.sk-toggleable__control:checked~label.sk-toggleable__label-arrow:before {\n",
              "  content: \"▾\";\n",
              "}\n",
              "\n",
              "/* Pipeline/ColumnTransformer-specific style */\n",
              "\n",
              "#sk-container-id-1 div.sk-label input.sk-toggleable__control:checked~label.sk-toggleable__label {\n",
              "  color: var(--sklearn-color-text);\n",
              "  background-color: var(--sklearn-color-unfitted-level-2);\n",
              "}\n",
              "\n",
              "#sk-container-id-1 div.sk-label.fitted input.sk-toggleable__control:checked~label.sk-toggleable__label {\n",
              "  background-color: var(--sklearn-color-fitted-level-2);\n",
              "}\n",
              "\n",
              "/* Estimator-specific style */\n",
              "\n",
              "/* Colorize estimator box */\n",
              "#sk-container-id-1 div.sk-estimator input.sk-toggleable__control:checked~label.sk-toggleable__label {\n",
              "  /* unfitted */\n",
              "  background-color: var(--sklearn-color-unfitted-level-2);\n",
              "}\n",
              "\n",
              "#sk-container-id-1 div.sk-estimator.fitted input.sk-toggleable__control:checked~label.sk-toggleable__label {\n",
              "  /* fitted */\n",
              "  background-color: var(--sklearn-color-fitted-level-2);\n",
              "}\n",
              "\n",
              "#sk-container-id-1 div.sk-label label.sk-toggleable__label,\n",
              "#sk-container-id-1 div.sk-label label {\n",
              "  /* The background is the default theme color */\n",
              "  color: var(--sklearn-color-text-on-default-background);\n",
              "}\n",
              "\n",
              "/* On hover, darken the color of the background */\n",
              "#sk-container-id-1 div.sk-label:hover label.sk-toggleable__label {\n",
              "  color: var(--sklearn-color-text);\n",
              "  background-color: var(--sklearn-color-unfitted-level-2);\n",
              "}\n",
              "\n",
              "/* Label box, darken color on hover, fitted */\n",
              "#sk-container-id-1 div.sk-label.fitted:hover label.sk-toggleable__label.fitted {\n",
              "  color: var(--sklearn-color-text);\n",
              "  background-color: var(--sklearn-color-fitted-level-2);\n",
              "}\n",
              "\n",
              "/* Estimator label */\n",
              "\n",
              "#sk-container-id-1 div.sk-label label {\n",
              "  font-family: monospace;\n",
              "  font-weight: bold;\n",
              "  display: inline-block;\n",
              "  line-height: 1.2em;\n",
              "}\n",
              "\n",
              "#sk-container-id-1 div.sk-label-container {\n",
              "  text-align: center;\n",
              "}\n",
              "\n",
              "/* Estimator-specific */\n",
              "#sk-container-id-1 div.sk-estimator {\n",
              "  font-family: monospace;\n",
              "  border: 1px dotted var(--sklearn-color-border-box);\n",
              "  border-radius: 0.25em;\n",
              "  box-sizing: border-box;\n",
              "  margin-bottom: 0.5em;\n",
              "  /* unfitted */\n",
              "  background-color: var(--sklearn-color-unfitted-level-0);\n",
              "}\n",
              "\n",
              "#sk-container-id-1 div.sk-estimator.fitted {\n",
              "  /* fitted */\n",
              "  background-color: var(--sklearn-color-fitted-level-0);\n",
              "}\n",
              "\n",
              "/* on hover */\n",
              "#sk-container-id-1 div.sk-estimator:hover {\n",
              "  /* unfitted */\n",
              "  background-color: var(--sklearn-color-unfitted-level-2);\n",
              "}\n",
              "\n",
              "#sk-container-id-1 div.sk-estimator.fitted:hover {\n",
              "  /* fitted */\n",
              "  background-color: var(--sklearn-color-fitted-level-2);\n",
              "}\n",
              "\n",
              "/* Specification for estimator info (e.g. \"i\" and \"?\") */\n",
              "\n",
              "/* Common style for \"i\" and \"?\" */\n",
              "\n",
              ".sk-estimator-doc-link,\n",
              "a:link.sk-estimator-doc-link,\n",
              "a:visited.sk-estimator-doc-link {\n",
              "  float: right;\n",
              "  font-size: smaller;\n",
              "  line-height: 1em;\n",
              "  font-family: monospace;\n",
              "  background-color: var(--sklearn-color-background);\n",
              "  border-radius: 1em;\n",
              "  height: 1em;\n",
              "  width: 1em;\n",
              "  text-decoration: none !important;\n",
              "  margin-left: 0.5em;\n",
              "  text-align: center;\n",
              "  /* unfitted */\n",
              "  border: var(--sklearn-color-unfitted-level-1) 1pt solid;\n",
              "  color: var(--sklearn-color-unfitted-level-1);\n",
              "}\n",
              "\n",
              ".sk-estimator-doc-link.fitted,\n",
              "a:link.sk-estimator-doc-link.fitted,\n",
              "a:visited.sk-estimator-doc-link.fitted {\n",
              "  /* fitted */\n",
              "  border: var(--sklearn-color-fitted-level-1) 1pt solid;\n",
              "  color: var(--sklearn-color-fitted-level-1);\n",
              "}\n",
              "\n",
              "/* On hover */\n",
              "div.sk-estimator:hover .sk-estimator-doc-link:hover,\n",
              ".sk-estimator-doc-link:hover,\n",
              "div.sk-label-container:hover .sk-estimator-doc-link:hover,\n",
              ".sk-estimator-doc-link:hover {\n",
              "  /* unfitted */\n",
              "  background-color: var(--sklearn-color-unfitted-level-3);\n",
              "  color: var(--sklearn-color-background);\n",
              "  text-decoration: none;\n",
              "}\n",
              "\n",
              "div.sk-estimator.fitted:hover .sk-estimator-doc-link.fitted:hover,\n",
              ".sk-estimator-doc-link.fitted:hover,\n",
              "div.sk-label-container:hover .sk-estimator-doc-link.fitted:hover,\n",
              ".sk-estimator-doc-link.fitted:hover {\n",
              "  /* fitted */\n",
              "  background-color: var(--sklearn-color-fitted-level-3);\n",
              "  color: var(--sklearn-color-background);\n",
              "  text-decoration: none;\n",
              "}\n",
              "\n",
              "/* Span, style for the box shown on hovering the info icon */\n",
              ".sk-estimator-doc-link span {\n",
              "  display: none;\n",
              "  z-index: 9999;\n",
              "  position: relative;\n",
              "  font-weight: normal;\n",
              "  right: .2ex;\n",
              "  padding: .5ex;\n",
              "  margin: .5ex;\n",
              "  width: min-content;\n",
              "  min-width: 20ex;\n",
              "  max-width: 50ex;\n",
              "  color: var(--sklearn-color-text);\n",
              "  box-shadow: 2pt 2pt 4pt #999;\n",
              "  /* unfitted */\n",
              "  background: var(--sklearn-color-unfitted-level-0);\n",
              "  border: .5pt solid var(--sklearn-color-unfitted-level-3);\n",
              "}\n",
              "\n",
              ".sk-estimator-doc-link.fitted span {\n",
              "  /* fitted */\n",
              "  background: var(--sklearn-color-fitted-level-0);\n",
              "  border: var(--sklearn-color-fitted-level-3);\n",
              "}\n",
              "\n",
              ".sk-estimator-doc-link:hover span {\n",
              "  display: block;\n",
              "}\n",
              "\n",
              "/* \"?\"-specific style due to the `<a>` HTML tag */\n",
              "\n",
              "#sk-container-id-1 a.estimator_doc_link {\n",
              "  float: right;\n",
              "  font-size: 1rem;\n",
              "  line-height: 1em;\n",
              "  font-family: monospace;\n",
              "  background-color: var(--sklearn-color-background);\n",
              "  border-radius: 1rem;\n",
              "  height: 1rem;\n",
              "  width: 1rem;\n",
              "  text-decoration: none;\n",
              "  /* unfitted */\n",
              "  color: var(--sklearn-color-unfitted-level-1);\n",
              "  border: var(--sklearn-color-unfitted-level-1) 1pt solid;\n",
              "}\n",
              "\n",
              "#sk-container-id-1 a.estimator_doc_link.fitted {\n",
              "  /* fitted */\n",
              "  border: var(--sklearn-color-fitted-level-1) 1pt solid;\n",
              "  color: var(--sklearn-color-fitted-level-1);\n",
              "}\n",
              "\n",
              "/* On hover */\n",
              "#sk-container-id-1 a.estimator_doc_link:hover {\n",
              "  /* unfitted */\n",
              "  background-color: var(--sklearn-color-unfitted-level-3);\n",
              "  color: var(--sklearn-color-background);\n",
              "  text-decoration: none;\n",
              "}\n",
              "\n",
              "#sk-container-id-1 a.estimator_doc_link.fitted:hover {\n",
              "  /* fitted */\n",
              "  background-color: var(--sklearn-color-fitted-level-3);\n",
              "}\n",
              "</style><div id=\"sk-container-id-1\" class=\"sk-top-container\"><div class=\"sk-text-repr-fallback\"><pre>LogisticRegression()</pre><b>In a Jupyter environment, please rerun this cell to show the HTML representation or trust the notebook. <br />On GitHub, the HTML representation is unable to render, please try loading this page with nbviewer.org.</b></div><div class=\"sk-container\" hidden><div class=\"sk-item\"><div class=\"sk-estimator fitted sk-toggleable\"><input class=\"sk-toggleable__control sk-hidden--visually\" id=\"sk-estimator-id-1\" type=\"checkbox\" checked><label for=\"sk-estimator-id-1\" class=\"sk-toggleable__label fitted sk-toggleable__label-arrow\"><div><div>LogisticRegression</div></div><div><a class=\"sk-estimator-doc-link fitted\" rel=\"noreferrer\" target=\"_blank\" href=\"https://scikit-learn.org/1.6/modules/generated/sklearn.linear_model.LogisticRegression.html\">?<span>Documentation for LogisticRegression</span></a><span class=\"sk-estimator-doc-link fitted\">i<span>Fitted</span></span></div></label><div class=\"sk-toggleable__content fitted\"><pre>LogisticRegression()</pre></div> </div></div></div></div>"
            ]
          },
          "metadata": {},
          "execution_count": 56
        }
      ],
      "execution_count": 56
    },
    {
      "cell_type": "code",
      "source": [
        "y_pred_train = clf.predict(X_tr_count)\n",
        "y_pred_dev   = clf.predict(X_dev_count)\n",
        "y_pred_test  = clf.predict(X_test_count)\n",
        "\n",
        "# Training set\n",
        "print(\"=== Training Set ===\")\n",
        "print(\"Accuracy :\", accuracy_score(ArrayTR, y_pred_train))\n",
        "print(\"Precision:\", precision_score(ArrayTR, y_pred_train, average='macro'))\n",
        "print(\"Recall   :\", recall_score(ArrayTR, y_pred_train, average='macro'))\n",
        "print(\"F1-Score :\", f1_score(ArrayTR, y_pred_train, average='macro'))\n",
        "\n",
        "# Dev set\n",
        "print(\"\\n=== Dev Set ===\")\n",
        "print(\"Accuracy :\", accuracy_score(ArrayDev, y_pred_dev))\n",
        "print(\"Precision:\", precision_score(ArrayDev, y_pred_dev, average='macro'))\n",
        "print(\"Recall   :\", recall_score(ArrayDev, y_pred_dev, average='macro'))\n",
        "print(\"F1-Score :\", f1_score(ArrayDev, y_pred_dev, average='macro'))\n",
        "print(\"Confusion Matrix (Dev set):\")\n",
        "print(confusion_matrix(ArrayDev, y_pred_dev))\n",
        "\n",
        "# Test set\n",
        "print(\"\\n=== Test Set ===\")\n",
        "print(\"Accuracy :\", accuracy_score(ArrayTest, y_pred_test))\n",
        "print(\"Precision:\", precision_score(ArrayTest, y_pred_test, average='macro'))\n",
        "print(\"Recall   :\", recall_score(ArrayTest, y_pred_test, average='macro'))\n",
        "print(\"F1-Score :\", f1_score(ArrayTest, y_pred_test, average='macro'))\n",
        "print(\"Confusion Matrix (Test set):\")\n",
        "print(confusion_matrix(ArrayTest, y_pred_test))"
      ],
      "metadata": {
        "colab": {
          "base_uri": "https://localhost:8080/"
        },
        "id": "3ClQ7dMFL9UI",
        "outputId": "795be14f-6956-4948-8853-5bff210e79d5"
      },
      "execution_count": 58,
      "outputs": [
        {
          "output_type": "stream",
          "name": "stdout",
          "text": [
            "=== Training Set ===\n",
            "Accuracy : 0.9113888888888889\n",
            "Precision: 0.9116393671581806\n",
            "Recall   : 0.9113992440272528\n",
            "F1-Score : 0.9113768262902451\n",
            "\n",
            "=== Dev Set ===\n",
            "Accuracy : 0.7125\n",
            "Precision: 0.712760631773923\n",
            "Recall   : 0.7124999999999999\n",
            "F1-Score : 0.7124119261523842\n",
            "Confusion Matrix (Dev set):\n",
            "[[278 122]\n",
            " [108 292]]\n",
            "\n",
            "=== Test Set ===\n",
            "Accuracy : 0.7115\n",
            "Precision: 0.711577551126565\n",
            "Recall   : 0.7115092115092114\n",
            "F1-Score : 0.7114791543689032\n",
            "Confusion Matrix (Test set):\n",
            "[[703 298]\n",
            " [279 720]]\n"
          ]
        }
      ]
    },
    {
      "cell_type": "code",
      "source": [
        "# Test set\n",
        "acc  = accuracy_score(ArrayTest, y_pred_test)\n",
        "prec = precision_score(ArrayTest, y_pred_test, average='macro')\n",
        "rec  = recall_score(ArrayTest, y_pred_test, average='macro')\n",
        "f1   = f1_score(ArrayTest, y_pred_test, average='macro')\n",
        "\n",
        "\n",
        "metrics = [acc, prec, rec, f1]\n",
        "names = [\"Accuracy\", \"Precision\", \"Recall\", \"F1-score\"]\n",
        "\n",
        "# Plot metrics bar chart\n",
        "plt.figure(figsize=(7,5))\n",
        "sns.barplot(x=names, y=metrics, palette=\"viridis\")\n",
        "plt.ylim(0,1)\n",
        "plt.title(\"Evaluation Metrics on Test Set\")\n",
        "for i, v in enumerate(metrics):\n",
        "    plt.text(i, v + 0.02, f\"{v:.2f}\", ha='center', fontsize=12)\n",
        "plt.show()\n",
        "\n",
        "# Plot confusion matrix heatmap ===\n",
        "cm = confusion_matrix(ArrayTest, y_pred_test)\n",
        "plt.figure(figsize=(6,5))\n",
        "sns.heatmap(cm, annot=True, fmt=\"d\", cmap=\"Blues\")\n",
        "plt.title(\"Confusion Matrix - Test Set\")\n",
        "plt.xlabel(\"Predicted\")\n",
        "plt.ylabel(\"True\")\n",
        "plt.show()"
      ],
      "metadata": {
        "colab": {
          "base_uri": "https://localhost:8080/",
          "height": 1000
        },
        "id": "ETGwQjRyXpA5",
        "outputId": "813c8791-5ff3-4f4e-f158-75d0e2926441"
      },
      "execution_count": 87,
      "outputs": [
        {
          "output_type": "stream",
          "name": "stderr",
          "text": [
            "/tmp/ipython-input-459666635.py:12: FutureWarning: \n",
            "\n",
            "Passing `palette` without assigning `hue` is deprecated and will be removed in v0.14.0. Assign the `x` variable to `hue` and set `legend=False` for the same effect.\n",
            "\n",
            "  sns.barplot(x=names, y=metrics, palette=\"viridis\")\n"
          ]
        },
        {
          "output_type": "display_data",
          "data": {
            "text/plain": [
              "<Figure size 700x500 with 1 Axes>"
            ],
            "image/png": "[encoded data removed]"
          },
          "metadata": {}
        },
        {
          "output_type": "display_data",
          "data": {
            "text/plain": [
              "<Figure size 600x500 with 2 Axes>"
            ],
            "image/png": "[encoded data removed]"
          },
          "metadata": {}
        }
      ]
    },
    {
      "cell_type": "code",
      "source": [
        "# 1. New input sentence\n",
        "new_sentence = [\"Best tweet ever!\"]\n",
        "\n",
        "# 2. Convert the new sentence into n-grams (same as during training)\n",
        "new_sentence_ngram = Extract_X_ngram(new_sentence)\n",
        "\n",
        "# 3. Vectorize using the custom function\n",
        "X_new = vectorise(new_sentence_ngram, list_of_vocab)\n",
        "\n",
        "# 4. Predict the label\n",
        "y_pred_new = clf.predict(X_new)\n",
        "\n",
        "print(\"Predicted label for the sentence:\", new_sentence[0])\n",
        "print(\"Result:\", y_pred_new[0])\n"
      ],
      "metadata": {
        "trusted": true,
        "execution": {
          "iopub.status.busy": "2025-10-02T12:24:54.615912Z",
          "iopub.execute_input": "2025-10-02T12:24:54.616778Z",
          "iopub.status.idle": "2025-10-02T12:24:54.625436Z",
          "shell.execute_reply.started": "2025-10-02T12:24:54.616747Z",
          "shell.execute_reply": "2025-10-02T12:24:54.623865Z"
        },
        "colab": {
          "base_uri": "https://localhost:8080/"
        },
        "id": "qlQKETkb531z",
        "outputId": "f1b7e249-7b5a-499a-934f-e44efa5c23d5"
      },
      "outputs": [
        {
          "output_type": "stream",
          "name": "stdout",
          "text": [
            "Predicted label for the sentence: Best tweet ever!\n",
            "Result: 1\n"
          ]
        }
      ],
      "execution_count": 81
    },
    {
      "cell_type": "markdown",
      "source": [
        "# Part II. Multinomial Logistic Regression (Multi-class Classification)\n",
        "\n",
        "### Step 1. **Data Loading**\n",
        "- **Dataset**: Import a multi-class dataset (e.g., 20 Newsgroups, or custom dataset with >2 categories)  \n",
        "- **File Access**: Load documents with category labels  \n",
        "- **Initial Inspection**: Show sample text and class distribution  \n",
        "\n",
        "---\n",
        "\n",
        "### Step 2. **Data Preprocessing**\n",
        "- **Text Cleaning**: Lowercasing, punctuation removal  \n",
        "- **Tokenization**: Segment into words  \n",
        "- **Stopword Removal** *(optional)*  \n",
        "\n",
        "---\n",
        "\n",
        "### Step 3. **Feature Representation**\n",
        "- **Bag-of-Words / Count Vectors**: Convert tokens into numerical features  \n",
        "- **Vocabulary**: Build based on training data  \n",
        "- **Matrix Representation**: Documents → rows, words → columns  \n",
        "\n",
        "---\n",
        "\n",
        "### Step 4. **Model Construction**\n",
        "- **Softmax Function**:  \n",
        "  $$ P(y=k|x) = \\frac{e^{\\theta_k^T x}}{\\sum_{j=1}^K e^{\\theta_j^T x}} $$\n",
        "- **Loss Function (Multiclass Cross-Entropy)**:  \n",
        "  $$ J(\\theta) = -\\frac{1}{m}\\sum_{i=1}^m \\sum_{k=1}^K \\mathbf{1}\\{y^{(i)}=k\\}\\log P(y=k|x^{(i)}) $$\n",
        "- **Training**: Fit multinomial logistic regression with gradient descent  \n",
        "\n",
        "---\n",
        "\n",
        "### Step 5. **Evaluation**\n",
        "- **Metrics**: Accuracy, Precision, Recall, F1-score (per class & macro/weighted)  \n",
        "- **Confusion Matrix**: Show classification distribution across classes  \n",
        "- **Error Analysis**: Inspect common misclassifications  \n",
        "\n",
        "---\n",
        "\n",
        "## Required Libraries\n",
        "- **`pandas`, `numpy`**: Data handling  \n",
        "- **`scikit-learn`**: Logistic regression, model evaluation  \n",
        "- **`matplotlib`, `seaborn`**: Visualization  \n",
        "- **`collections`**: Frequency counts  \n"
      ],
      "metadata": {
        "id": "lMx_57MLIEqi"
      }
    },
    {
      "cell_type": "code",
      "source": [
        "from sklearn.datasets import fetch_20newsgroups\n",
        "from sklearn.model_selection import train_test_split\n",
        "import pandas as pd\n",
        "import numpy as np\n",
        "\n",
        "categories = ['sci.med','rec.sport.hockey', 'sci.space', 'talk.religion.misc', 'comp.graphics']\n",
        "\n",
        "newsgroups_train = fetch_20newsgroups(\n",
        "    subset='train',\n",
        "    categories=categories,\n",
        "    remove=('headers','footers','quotes')\n",
        ")\n",
        "newsgroups_test = fetch_20newsgroups(\n",
        "    subset='test',\n",
        "    categories=categories,\n",
        "    remove=('headers','footers','quotes')\n",
        ")\n",
        "\n",
        "# Combine train + test to select a subset of ~3000\n",
        "all_texts = newsgroups_train.data + newsgroups_test.data\n",
        "all_labels = list(newsgroups_train.target) + list(newsgroups_test.target)\n",
        "\n",
        "# Randomly sample 3000 (here: 4000)\n",
        "subset_texts, _, subset_labels, _ = train_test_split(\n",
        "    all_texts,\n",
        "    all_labels,\n",
        "    train_size=4000,\n",
        "    stratify=all_labels,\n",
        "    random_state=42\n",
        ")\n",
        "\n",
        "# Split into train/dev/test (70/15/15)\n",
        "X_train, X_temp, y_train, y_temp = train_test_split(\n",
        "    subset_texts, subset_labels,\n",
        "    test_size=0.3, random_state=42, stratify=subset_labels\n",
        ")\n",
        "X_dev, X_test, y_dev, y_test = train_test_split(\n",
        "    X_temp, y_temp,\n",
        "    test_size=0.5, random_state=42, stratify=y_temp\n",
        ")\n",
        "\n",
        "Topic_data_tr = pd.DataFrame({\"label\": y_train, \"text\": X_train})\n",
        "Topic_data_dev = pd.DataFrame({\"label\": y_dev, \"text\": X_dev})\n",
        "Topic_data_test = pd.DataFrame({\"label\": y_test, \"text\": X_test})\n",
        "\n",
        "# Create list + numpy array (old format)\n",
        "topic_tr_textlist = Topic_data_tr[[\"text\"]].values.tolist()\n",
        "ArrayTR_Topic = Topic_data_tr[[\"label\"]].to_numpy()\n",
        "\n",
        "topic_dev_textlist = Topic_data_dev[[\"text\"]].values.tolist()\n",
        "ArrayDev_Topic = Topic_data_dev[[\"label\"]].to_numpy()\n",
        "\n",
        "topic_test_textlist = Topic_data_test[[\"text\"]].values.tolist()\n",
        "ArrayTest_Topic = Topic_data_test[[\"label\"]].to_numpy()\n",
        "\n",
        "print(\"Train size:\", len(Topic_data_tr))\n",
        "print(\"Dev size:\", len(Topic_data_dev))\n",
        "print(\"Test size:\", len(Topic_data_test))\n",
        "print(\"Number of classes:\", len(np.unique(ArrayTR_Topic)))\n",
        "\n",
        "Topic_data_tr.head()\n"
      ],
      "metadata": {
        "ExecuteTime": {
          "end_time": "2020-02-15T14:18:03.212229Z",
          "start_time": "2020-02-15T14:18:03.185261Z"
        },
        "id": "bNDJ6sX0Itlk",
        "trusted": true,
        "execution": {
          "iopub.status.busy": "2025-10-02T12:25:03.761420Z",
          "iopub.execute_input": "2025-10-02T12:25:03.761759Z",
          "iopub.status.idle": "2025-10-02T12:25:05.993383Z",
          "shell.execute_reply.started": "2025-10-02T12:25:03.761735Z",
          "shell.execute_reply": "2025-10-02T12:25:05.992455Z"
        },
        "colab": {
          "base_uri": "https://localhost:8080/",
          "height": 275
        },
        "outputId": "477c0aba-41ee-46dd-ed02-a1d47ac89222"
      },
      "outputs": [
        {
          "output_type": "stream",
          "name": "stdout",
          "text": [
            "Train size: 2800\n",
            "Dev size: 600\n",
            "Test size: 600\n",
            "Number of classes: 5\n"
          ]
        },
        {
          "output_type": "execute_result",
          "data": {
            "text/plain": [
              "   label                                               text\n",
              "0      3  At one time there was speculation that the fir...\n",
              "1      0  I am looking for some fast polygon routines (S...\n",
              "2      1  Can some on e give me some stats on Forsrg in ...\n",
              "3      3  Regarding the feasability of retrieving the HS...\n",
              "4      1  -=> Quoting Greg Rogers to All <=-\\n GR> Hi al..."
            ],
            "text/html": [
              "\n",
              "  <div id=\"df-c753329e-85d5-4b6f-a5f2-673f5b2c5a51\" class=\"colab-df-container\">\n",
              "    <div>\n",
              "<style scoped>\n",
              "    .dataframe tbody tr th:only-of-type {\n",
              "        vertical-align: middle;\n",
              "    }\n",
              "\n",
              "    .dataframe tbody tr th {\n",
              "        vertical-align: top;\n",
              "    }\n",
              "\n",
              "    .dataframe thead th {\n",
              "        text-align: right;\n",
              "    }\n",
              "</style>\n",
              "<table border=\"1\" class=\"dataframe\">\n",
              "  <thead>\n",
              "    <tr style=\"text-align: right;\">\n",
              "      <th></th>\n",
              "      <th>label</th>\n",
              "      <th>text</th>\n",
              "    </tr>\n",
              "  </thead>\n",
              "  <tbody>\n",
              "    <tr>\n",
              "      <th>0</th>\n",
              "      <td>3</td>\n",
              "      <td>At one time there was speculation that the fir...</td>\n",
              "    </tr>\n",
              "    <tr>\n",
              "      <th>1</th>\n",
              "      <td>0</td>\n",
              "      <td>I am looking for some fast polygon routines (S...</td>\n",
              "    </tr>\n",
              "    <tr>\n",
              "      <th>2</th>\n",
              "      <td>1</td>\n",
              "      <td>Can some on e give me some stats on Forsrg in ...</td>\n",
              "    </tr>\n",
              "    <tr>\n",
              "      <th>3</th>\n",
              "      <td>3</td>\n",
              "      <td>Regarding the feasability of retrieving the HS...</td>\n",
              "    </tr>\n",
              "    <tr>\n",
              "      <th>4</th>\n",
              "      <td>1</td>\n",
              "      <td>-=&gt; Quoting Greg Rogers to All &lt;=-\\n GR&gt; Hi al...</td>\n",
              "    </tr>\n",
              "  </tbody>\n",
              "</table>\n",
              "</div>\n",
              "    <div class=\"colab-df-buttons\">\n",
              "\n",
              "  <div class=\"colab-df-container\">\n",
              "    <button class=\"colab-df-convert\" onclick=\"convertToInteractive('df-c753329e-85d5-4b6f-a5f2-673f5b2c5a51')\"\n",
              "            title=\"Convert this dataframe to an interactive table.\"\n",
              "            style=\"display:none;\">\n",
              "\n",
              "  <svg xmlns=\"http://www.w3.org/2000/svg\" height=\"24px\" viewBox=\"0 -960 960 960\">\n",
              "    <path d=\"M120-120v-720h720v720H120Zm60-500h600v-160H180v160Zm220 220h160v-160H400v160Zm0 220h160v-160H400v160ZM180-400h160v-160H180v160Zm440 0h160v-160H620v160ZM180-180h160v-160H180v160Zm440 0h160v-160H620v160Z\"/>\n",
              "  </svg>\n",
              "    </button>\n",
              "\n",
              "  <style>\n",
              "    .colab-df-container {\n",
              "      display:flex;\n",
              "      gap: 12px;\n",
              "    }\n",
              "\n",
              "    .colab-df-convert {\n",
              "      background-color: #E8F0FE;\n",
              "      border: none;\n",
              "      border-radius: 50%;\n",
              "      cursor: pointer;\n",
              "      display: none;\n",
              "      fill: #1967D2;\n",
              "      height: 32px;\n",
              "      padding: 0 0 0 0;\n",
              "      width: 32px;\n",
              "    }\n",
              "\n",
              "    .colab-df-convert:hover {\n",
              "      background-color: #E2EBFA;\n",
              "      box-shadow: 0px 1px 2px rgba(60, 64, 67, 0.3), 0px 1px 3px 1px rgba(60, 64, 67, 0.15);\n",
              "      fill: #174EA6;\n",
              "    }\n",
              "\n",
              "    .colab-df-buttons div {\n",
              "      margin-bottom: 4px;\n",
              "    }\n",
              "\n",
              "    [theme=dark] .colab-df-convert {\n",
              "      background-color: #3B4455;\n",
              "      fill: #D2E3FC;\n",
              "    }\n",
              "\n",
              "    [theme=dark] .colab-df-convert:hover {\n",
              "      background-color: #434B5C;\n",
              "      box-shadow: 0px 1px 3px 1px rgba(0, 0, 0, 0.15);\n",
              "      filter: drop-shadow(0px 1px 2px rgba(0, 0, 0, 0.3));\n",
              "      fill: #FFFFFF;\n",
              "    }\n",
              "  </style>\n",
              "\n",
              "    <script>\n",
              "      const buttonEl =\n",
              "        document.querySelector('#df-c753329e-85d5-4b6f-a5f2-673f5b2c5a51 button.colab-df-convert');\n",
              "      buttonEl.style.display =\n",
              "        google.colab.kernel.accessAllowed ? 'block' : 'none';\n",
              "\n",
              "      async function convertToInteractive(key) {\n",
              "        const element = document.querySelector('#df-c753329e-85d5-4b6f-a5f2-673f5b2c5a51');\n",
              "        const dataTable =\n",
              "          await google.colab.kernel.invokeFunction('convertToInteractive',\n",
              "                                                    [key], {});\n",
              "        if (!dataTable) return;\n",
              "\n",
              "        const docLinkHtml = 'Like what you see? Visit the ' +\n",
              "          '<a target=\"_blank\" href=https://colab.research.google.com/notebooks/data_table.ipynb>data table notebook</a>'\n",
              "          + ' to learn more about interactive tables.';\n",
              "        element.innerHTML = '';\n",
              "        dataTable['output_type'] = 'display_data';\n",
              "        await google.colab.output.renderOutput(dataTable, element);\n",
              "        const docLink = document.createElement('div');\n",
              "        docLink.innerHTML = docLinkHtml;\n",
              "        element.appendChild(docLink);\n",
              "      }\n",
              "    </script>\n",
              "  </div>\n",
              "\n",
              "\n",
              "    <div id=\"df-d21cbcbb-8129-4910-9410-29a860a71e5a\">\n",
              "      <button class=\"colab-df-quickchart\" onclick=\"quickchart('df-d21cbcbb-8129-4910-9410-29a860a71e5a')\"\n",
              "                title=\"Suggest charts\"\n",
              "                style=\"display:none;\">\n",
              "\n",
              "<svg xmlns=\"http://www.w3.org/2000/svg\" height=\"24px\"viewBox=\"0 0 24 24\"\n",
              "     width=\"24px\">\n",
              "    <g>\n",
              "        <path d=\"M19 3H5c-1.1 0-2 .9-2 2v14c0 1.1.9 2 2 2h14c1.1 0 2-.9 2-2V5c0-1.1-.9-2-2-2zM9 17H7v-7h2v7zm4 0h-2V7h2v10zm4 0h-2v-4h2v4z\"/>\n",
              "    </g>\n",
              "</svg>\n",
              "      </button>\n",
              "\n",
              "<style>\n",
              "  .colab-df-quickchart {\n",
              "      --bg-color: #E8F0FE;\n",
              "      --fill-color: #1967D2;\n",
              "      --hover-bg-color: #E2EBFA;\n",
              "      --hover-fill-color: #174EA6;\n",
              "      --disabled-fill-color: #AAA;\n",
              "      --disabled-bg-color: #DDD;\n",
              "  }\n",
              "\n",
              "  [theme=dark] .colab-df-quickchart {\n",
              "      --bg-color: #3B4455;\n",
              "      --fill-color: #D2E3FC;\n",
              "      --hover-bg-color: #434B5C;\n",
              "      --hover-fill-color: #FFFFFF;\n",
              "      --disabled-bg-color: #3B4455;\n",
              "      --disabled-fill-color: #666;\n",
              "  }\n",
              "\n",
              "  .colab-df-quickchart {\n",
              "    background-color: var(--bg-color);\n",
              "    border: none;\n",
              "    border-radius: 50%;\n",
              "    cursor: pointer;\n",
              "    display: none;\n",
              "    fill: var(--fill-color);\n",
              "    height: 32px;\n",
              "    padding: 0;\n",
              "    width: 32px;\n",
              "  }\n",
              "\n",
              "  .colab-df-quickchart:hover {\n",
              "    background-color: var(--hover-bg-color);\n",
              "    box-shadow: 0 1px 2px rgba(60, 64, 67, 0.3), 0 1px 3px 1px rgba(60, 64, 67, 0.15);\n",
              "    fill: var(--button-hover-fill-color);\n",
              "  }\n",
              "\n",
              "  .colab-df-quickchart-complete:disabled,\n",
              "  .colab-df-quickchart-complete:disabled:hover {\n",
              "    background-color: var(--disabled-bg-color);\n",
              "    fill: var(--disabled-fill-color);\n",
              "    box-shadow: none;\n",
              "  }\n",
              "\n",
              "  .colab-df-spinner {\n",
              "    border: 2px solid var(--fill-color);\n",
              "    border-color: transparent;\n",
              "    border-bottom-color: var(--fill-color);\n",
              "    animation:\n",
              "      spin 1s steps(1) infinite;\n",
              "  }\n",
              "\n",
              "  @keyframes spin {\n",
              "    0% {\n",
              "      border-color: transparent;\n",
              "      border-bottom-color: var(--fill-color);\n",
              "      border-left-color: var(--fill-color);\n",
              "    }\n",
              "    20% {\n",
              "      border-color: transparent;\n",
              "      border-left-color: var(--fill-color);\n",
              "      border-top-color: var(--fill-color);\n",
              "    }\n",
              "    30% {\n",
              "      border-color: transparent;\n",
              "      border-left-color: var(--fill-color);\n",
              "      border-top-color: var(--fill-color);\n",
              "      border-right-color: var(--fill-color);\n",
              "    }\n",
              "    40% {\n",
              "      border-color: transparent;\n",
              "      border-right-color: var(--fill-color);\n",
              "      border-top-color: var(--fill-color);\n",
              "    }\n",
              "    60% {\n",
              "      border-color: transparent;\n",
              "      border-right-color: var(--fill-color);\n",
              "    }\n",
              "    80% {\n",
              "      border-color: transparent;\n",
              "      border-right-color: var(--fill-color);\n",
              "      border-bottom-color: var(--fill-color);\n",
              "    }\n",
              "    90% {\n",
              "      border-color: transparent;\n",
              "      border-bottom-color: var(--fill-color);\n",
              "    }\n",
              "  }\n",
              "</style>\n",
              "\n",
              "      <script>\n",
              "        async function quickchart(key) {\n",
              "          const quickchartButtonEl =\n",
              "            document.querySelector('#' + key + ' button');\n",
              "          quickchartButtonEl.disabled = true;  // To prevent multiple clicks.\n",
              "          quickchartButtonEl.classList.add('colab-df-spinner');\n",
              "          try {\n",
              "            const charts = await google.colab.kernel.invokeFunction(\n",
              "                'suggestCharts', [key], {});\n",
              "          } catch (error) {\n",
              "            console.error('Error during call to suggestCharts:', error);\n",
              "          }\n",
              "          quickchartButtonEl.classList.remove('colab-df-spinner');\n",
              "          quickchartButtonEl.classList.add('colab-df-quickchart-complete');\n",
              "        }\n",
              "        (() => {\n",
              "          let quickchartButtonEl =\n",
              "            document.querySelector('#df-d21cbcbb-8129-4910-9410-29a860a71e5a button');\n",
              "          quickchartButtonEl.style.display =\n",
              "            google.colab.kernel.accessAllowed ? 'block' : 'none';\n",
              "        })();\n",
              "      </script>\n",
              "    </div>\n",
              "\n",
              "    </div>\n",
              "  </div>\n"
            ],
            "application/vnd.google.colaboratory.intrinsic+json": {
              "type": "dataframe",
              "variable_name": "Topic_data_tr",
              "summary": "{\n  \"name\": \"Topic_data_tr\",\n  \"rows\": 2800,\n  \"fields\": [\n    {\n      \"column\": \"label\",\n      \"properties\": {\n        \"dtype\": \"number\",\n        \"std\": 1,\n        \"min\": 0,\n        \"max\": 4,\n        \"num_unique_values\": 5,\n        \"samples\": [\n          0,\n          2,\n          1\n        ],\n        \"semantic_type\": \"\",\n        \"description\": \"\"\n      }\n    },\n    {\n      \"column\": \"text\",\n      \"properties\": {\n        \"dtype\": \"string\",\n        \"num_unique_values\": 2726,\n        \"samples\": [\n          \"I have just started taking allergy shots a month ago and is \\nstill wondering what I am getting into. A friend of mine told\\nme that the body change every 7 years (whatever that means)\\nand I don't need those antibody-building allergy shots at all.\\nDoes that make sense to anyone?\",\n          \"Oops, what the hell a crosspost is this ?!\\n\\nHave a look onto XV-3.00 before saying anything more about it's power.\\n\",\n          \"#|> #|> \\n#|> #|> #This is quite different from saying \\\"Employing force on other people\\n#|> #|> #is immoral, period.   Unfortunately, from time to time we are obliged\\n#|> #|> #to do this immoral thing for reasons of self-preservation, and so\\n#|> #|> #we have to bear the moral consequences of that.\\n#|> #|> \\n#|> #|> Since both statements, to all intents and purposes, say effectively\\n#|> #|> the same thing, \\n#|> #\\n#|> #Are you serious?  Two statements, one of which says that use of force\\n#|> #in the given situation is moral, and the other of which says it is\\n#|> #not moral \\\"say effectively the same thing?\\\"\\n#|> \\n#|> Yes, when you tag on the \\\"Unfortunately, ...\\\", then to all intents and\\n#|> purposes you are saying the same thing.\\n#\\n#Then delete the \\\"unfortunately\\\".   Now tell me that the two statement\\n#say effectively the same thing.\\n#\\n#And to save everyone a couple of trips round this loop, please notice\\n#that we are only obliged to use force to preserve self.   We can choose\\n#*not* to preserve self, which is the point of pacifism.\\n\\nO.K., got you.  I concede your point, though the word \\\"obliged\\\" strongly\\nimplies that one must sometimes use force.  A further rephrasing would\\ngive you the distinction you mention, however.  If I have you right, a pacifist\\nwould not even go on to say, \\\"unfortunately,etc.\\\"\\n\\n#|> #Would you say this of any two statements, one saying \\\"X is moral\\\" and\\n#|> #the other saying \\\"X is immoral?\\\"   How would you decided when two \\n#|> #statements \\\"X is moral\\\" \\\"X is immoral\\\" actually conflict, and when\\n#|> #they \\\"say effectively the same thing\\\".\\n#|> \\n#|> What they prescribe that one should do is a pretty good indicator.\\n#\\n#And in this case they don't prescribe the same things, so.....\\n\\nYes, fair enough, though why confuse things by saying that \\\"one is \\nsomtimes obliged\\\" if the real meaning is that \\\"one is never obliged\\\".\\n\\n#|> #|>                  and lead one to do precisely the same thing, then \\n#|> #|> either both statements are doublespeak, or none.\\n#|> #\\n#|> #They might lead you to do the same thing, but the difference is what\\n#|> #motivates pacifism so they obviously don't lead pacifists to to the\\n#|> #same thing.\\n#|> \\n#|> That's not true.  You could formulate a pragmatic belief in minimum \\n#|> force and still be a pacifist.  If the minimum is 0, great  - but one is\\n#|> always trying to get as close to 0 force as possible under that belief.\\n#|> Not the same as 'force is immoral, period', but still tending to pacifism.\\n#\\n#If you don't think the use of force is immoral, why minimise its use?\\n\\nIf you don't think that it is \\\"immoral, period.\\\".   \"\n        ],\n        \"semantic_type\": \"\",\n        \"description\": \"\"\n      }\n    }\n  ]\n}"
            }
          },
          "metadata": {},
          "execution_count": 118
        }
      ],
      "execution_count": 118
    },
    {
      "cell_type": "code",
      "source": [
        "print(len(topic_test_textlist))"
      ],
      "metadata": {
        "id": "rwV__06LItlk",
        "outputId": "c8405862-d7e2-4b3a-8cbf-2be0714a5fec",
        "trusted": true,
        "execution": {
          "iopub.status.busy": "2025-10-02T12:25:11.168380Z",
          "iopub.execute_input": "2025-10-02T12:25:11.168732Z",
          "iopub.status.idle": "2025-10-02T12:25:11.174150Z",
          "shell.execute_reply.started": "2025-10-02T12:25:11.168708Z",
          "shell.execute_reply": "2025-10-02T12:25:11.173061Z"
        },
        "colab": {
          "base_uri": "https://localhost:8080/"
        }
      },
      "outputs": [
        {
          "output_type": "stream",
          "name": "stdout",
          "text": [
            "600\n"
          ]
        }
      ],
      "execution_count": 119
    },
    {
      "cell_type": "code",
      "source": [
        "Topic_data_tr.head()"
      ],
      "metadata": {
        "ExecuteTime": {
          "end_time": "2020-02-15T14:18:03.515585Z",
          "start_time": "2020-02-15T14:18:03.508299Z"
        },
        "id": "K3PzDaTjItll",
        "outputId": "b28b4109-3bdf-4fc5-b3c3-b1cd349e17f2",
        "trusted": true,
        "execution": {
          "iopub.status.busy": "2025-10-02T12:25:12.910973Z",
          "iopub.execute_input": "2025-10-02T12:25:12.911302Z",
          "iopub.status.idle": "2025-10-02T12:25:12.919993Z",
          "shell.execute_reply.started": "2025-10-02T12:25:12.911277Z",
          "shell.execute_reply": "2025-10-02T12:25:12.919096Z"
        },
        "colab": {
          "base_uri": "https://localhost:8080/",
          "height": 206
        }
      },
      "outputs": [
        {
          "output_type": "execute_result",
          "data": {
            "text/plain": [
              "   label                                               text\n",
              "0      3  At one time there was speculation that the fir...\n",
              "1      0  I am looking for some fast polygon routines (S...\n",
              "2      1  Can some on e give me some stats on Forsrg in ...\n",
              "3      3  Regarding the feasability of retrieving the HS...\n",
              "4      1  -=> Quoting Greg Rogers to All <=-\\n GR> Hi al..."
            ],
            "text/html": [
              "\n",
              "  <div id=\"df-9351b137-e78f-490a-a6a0-28ef05682ba3\" class=\"colab-df-container\">\n",
              "    <div>\n",
              "<style scoped>\n",
              "    .dataframe tbody tr th:only-of-type {\n",
              "        vertical-align: middle;\n",
              "    }\n",
              "\n",
              "    .dataframe tbody tr th {\n",
              "        vertical-align: top;\n",
              "    }\n",
              "\n",
              "    .dataframe thead th {\n",
              "        text-align: right;\n",
              "    }\n",
              "</style>\n",
              "<table border=\"1\" class=\"dataframe\">\n",
              "  <thead>\n",
              "    <tr style=\"text-align: right;\">\n",
              "      <th></th>\n",
              "      <th>label</th>\n",
              "      <th>text</th>\n",
              "    </tr>\n",
              "  </thead>\n",
              "  <tbody>\n",
              "    <tr>\n",
              "      <th>0</th>\n",
              "      <td>3</td>\n",
              "      <td>At one time there was speculation that the fir...</td>\n",
              "    </tr>\n",
              "    <tr>\n",
              "      <th>1</th>\n",
              "      <td>0</td>\n",
              "      <td>I am looking for some fast polygon routines (S...</td>\n",
              "    </tr>\n",
              "    <tr>\n",
              "      <th>2</th>\n",
              "      <td>1</td>\n",
              "      <td>Can some on e give me some stats on Forsrg in ...</td>\n",
              "    </tr>\n",
              "    <tr>\n",
              "      <th>3</th>\n",
              "      <td>3</td>\n",
              "      <td>Regarding the feasability of retrieving the HS...</td>\n",
              "    </tr>\n",
              "    <tr>\n",
              "      <th>4</th>\n",
              "      <td>1</td>\n",
              "      <td>-=&gt; Quoting Greg Rogers to All &lt;=-\\n GR&gt; Hi al...</td>\n",
              "    </tr>\n",
              "  </tbody>\n",
              "</table>\n",
              "</div>\n",
              "    <div class=\"colab-df-buttons\">\n",
              "\n",
              "  <div class=\"colab-df-container\">\n",
              "    <button class=\"colab-df-convert\" onclick=\"convertToInteractive('df-9351b137-e78f-490a-a6a0-28ef05682ba3')\"\n",
              "            title=\"Convert this dataframe to an interactive table.\"\n",
              "            style=\"display:none;\">\n",
              "\n",
              "  <svg xmlns=\"http://www.w3.org/2000/svg\" height=\"24px\" viewBox=\"0 -960 960 960\">\n",
              "    <path d=\"M120-120v-720h720v720H120Zm60-500h600v-160H180v160Zm220 220h160v-160H400v160Zm0 220h160v-160H400v160ZM180-400h160v-160H180v160Zm440 0h160v-160H620v160ZM180-180h160v-160H180v160Zm440 0h160v-160H620v160Z\"/>\n",
              "  </svg>\n",
              "    </button>\n",
              "\n",
              "  <style>\n",
              "    .colab-df-container {\n",
              "      display:flex;\n",
              "      gap: 12px;\n",
              "    }\n",
              "\n",
              "    .colab-df-convert {\n",
              "      background-color: #E8F0FE;\n",
              "      border: none;\n",
              "      border-radius: 50%;\n",
              "      cursor: pointer;\n",
              "      display: none;\n",
              "      fill: #1967D2;\n",
              "      height: 32px;\n",
              "      padding: 0 0 0 0;\n",
              "      width: 32px;\n",
              "    }\n",
              "\n",
              "    .colab-df-convert:hover {\n",
              "      background-color: #E2EBFA;\n",
              "      box-shadow: 0px 1px 2px rgba(60, 64, 67, 0.3), 0px 1px 3px 1px rgba(60, 64, 67, 0.15);\n",
              "      fill: #174EA6;\n",
              "    }\n",
              "\n",
              "    .colab-df-buttons div {\n",
              "      margin-bottom: 4px;\n",
              "    }\n",
              "\n",
              "    [theme=dark] .colab-df-convert {\n",
              "      background-color: #3B4455;\n",
              "      fill: #D2E3FC;\n",
              "    }\n",
              "\n",
              "    [theme=dark] .colab-df-convert:hover {\n",
              "      background-color: #434B5C;\n",
              "      box-shadow: 0px 1px 3px 1px rgba(0, 0, 0, 0.15);\n",
              "      filter: drop-shadow(0px 1px 2px rgba(0, 0, 0, 0.3));\n",
              "      fill: #FFFFFF;\n",
              "    }\n",
              "  </style>\n",
              "\n",
              "    <script>\n",
              "      const buttonEl =\n",
              "        document.querySelector('#df-9351b137-e78f-490a-a6a0-28ef05682ba3 button.colab-df-convert');\n",
              "      buttonEl.style.display =\n",
              "        google.colab.kernel.accessAllowed ? 'block' : 'none';\n",
              "\n",
              "      async function convertToInteractive(key) {\n",
              "        const element = document.querySelector('#df-9351b137-e78f-490a-a6a0-28ef05682ba3');\n",
              "        const dataTable =\n",
              "          await google.colab.kernel.invokeFunction('convertToInteractive',\n",
              "                                                    [key], {});\n",
              "        if (!dataTable) return;\n",
              "\n",
              "        const docLinkHtml = 'Like what you see? Visit the ' +\n",
              "          '<a target=\"_blank\" href=https://colab.research.google.com/notebooks/data_table.ipynb>data table notebook</a>'\n",
              "          + ' to learn more about interactive tables.';\n",
              "        element.innerHTML = '';\n",
              "        dataTable['output_type'] = 'display_data';\n",
              "        await google.colab.output.renderOutput(dataTable, element);\n",
              "        const docLink = document.createElement('div');\n",
              "        docLink.innerHTML = docLinkHtml;\n",
              "        element.appendChild(docLink);\n",
              "      }\n",
              "    </script>\n",
              "  </div>\n",
              "\n",
              "\n",
              "    <div id=\"df-b141fd52-b706-4ec1-a84e-cca9fc778f9b\">\n",
              "      <button class=\"colab-df-quickchart\" onclick=\"quickchart('df-b141fd52-b706-4ec1-a84e-cca9fc778f9b')\"\n",
              "                title=\"Suggest charts\"\n",
              "                style=\"display:none;\">\n",
              "\n",
              "<svg xmlns=\"http://www.w3.org/2000/svg\" height=\"24px\"viewBox=\"0 0 24 24\"\n",
              "     width=\"24px\">\n",
              "    <g>\n",
              "        <path d=\"M19 3H5c-1.1 0-2 .9-2 2v14c0 1.1.9 2 2 2h14c1.1 0 2-.9 2-2V5c0-1.1-.9-2-2-2zM9 17H7v-7h2v7zm4 0h-2V7h2v10zm4 0h-2v-4h2v4z\"/>\n",
              "    </g>\n",
              "</svg>\n",
              "      </button>\n",
              "\n",
              "<style>\n",
              "  .colab-df-quickchart {\n",
              "      --bg-color: #E8F0FE;\n",
              "      --fill-color: #1967D2;\n",
              "      --hover-bg-color: #E2EBFA;\n",
              "      --hover-fill-color: #174EA6;\n",
              "      --disabled-fill-color: #AAA;\n",
              "      --disabled-bg-color: #DDD;\n",
              "  }\n",
              "\n",
              "  [theme=dark] .colab-df-quickchart {\n",
              "      --bg-color: #3B4455;\n",
              "      --fill-color: #D2E3FC;\n",
              "      --hover-bg-color: #434B5C;\n",
              "      --hover-fill-color: #FFFFFF;\n",
              "      --disabled-bg-color: #3B4455;\n",
              "      --disabled-fill-color: #666;\n",
              "  }\n",
              "\n",
              "  .colab-df-quickchart {\n",
              "    background-color: var(--bg-color);\n",
              "    border: none;\n",
              "    border-radius: 50%;\n",
              "    cursor: pointer;\n",
              "    display: none;\n",
              "    fill: var(--fill-color);\n",
              "    height: 32px;\n",
              "    padding: 0;\n",
              "    width: 32px;\n",
              "  }\n",
              "\n",
              "  .colab-df-quickchart:hover {\n",
              "    background-color: var(--hover-bg-color);\n",
              "    box-shadow: 0 1px 2px rgba(60, 64, 67, 0.3), 0 1px 3px 1px rgba(60, 64, 67, 0.15);\n",
              "    fill: var(--button-hover-fill-color);\n",
              "  }\n",
              "\n",
              "  .colab-df-quickchart-complete:disabled,\n",
              "  .colab-df-quickchart-complete:disabled:hover {\n",
              "    background-color: var(--disabled-bg-color);\n",
              "    fill: var(--disabled-fill-color);\n",
              "    box-shadow: none;\n",
              "  }\n",
              "\n",
              "  .colab-df-spinner {\n",
              "    border: 2px solid var(--fill-color);\n",
              "    border-color: transparent;\n",
              "    border-bottom-color: var(--fill-color);\n",
              "    animation:\n",
              "      spin 1s steps(1) infinite;\n",
              "  }\n",
              "\n",
              "  @keyframes spin {\n",
              "    0% {\n",
              "      border-color: transparent;\n",
              "      border-bottom-color: var(--fill-color);\n",
              "      border-left-color: var(--fill-color);\n",
              "    }\n",
              "    20% {\n",
              "      border-color: transparent;\n",
              "      border-left-color: var(--fill-color);\n",
              "      border-top-color: var(--fill-color);\n",
              "    }\n",
              "    30% {\n",
              "      border-color: transparent;\n",
              "      border-left-color: var(--fill-color);\n",
              "      border-top-color: var(--fill-color);\n",
              "      border-right-color: var(--fill-color);\n",
              "    }\n",
              "    40% {\n",
              "      border-color: transparent;\n",
              "      border-right-color: var(--fill-color);\n",
              "      border-top-color: var(--fill-color);\n",
              "    }\n",
              "    60% {\n",
              "      border-color: transparent;\n",
              "      border-right-color: var(--fill-color);\n",
              "    }\n",
              "    80% {\n",
              "      border-color: transparent;\n",
              "      border-right-color: var(--fill-color);\n",
              "      border-bottom-color: var(--fill-color);\n",
              "    }\n",
              "    90% {\n",
              "      border-color: transparent;\n",
              "      border-bottom-color: var(--fill-color);\n",
              "    }\n",
              "  }\n",
              "</style>\n",
              "\n",
              "      <script>\n",
              "        async function quickchart(key) {\n",
              "          const quickchartButtonEl =\n",
              "            document.querySelector('#' + key + ' button');\n",
              "          quickchartButtonEl.disabled = true;  // To prevent multiple clicks.\n",
              "          quickchartButtonEl.classList.add('colab-df-spinner');\n",
              "          try {\n",
              "            const charts = await google.colab.kernel.invokeFunction(\n",
              "                'suggestCharts', [key], {});\n",
              "          } catch (error) {\n",
              "            console.error('Error during call to suggestCharts:', error);\n",
              "          }\n",
              "          quickchartButtonEl.classList.remove('colab-df-spinner');\n",
              "          quickchartButtonEl.classList.add('colab-df-quickchart-complete');\n",
              "        }\n",
              "        (() => {\n",
              "          let quickchartButtonEl =\n",
              "            document.querySelector('#df-b141fd52-b706-4ec1-a84e-cca9fc778f9b button');\n",
              "          quickchartButtonEl.style.display =\n",
              "            google.colab.kernel.accessAllowed ? 'block' : 'none';\n",
              "        })();\n",
              "      </script>\n",
              "    </div>\n",
              "\n",
              "    </div>\n",
              "  </div>\n"
            ],
            "application/vnd.google.colaboratory.intrinsic+json": {
              "type": "dataframe",
              "variable_name": "Topic_data_tr",
              "summary": "{\n  \"name\": \"Topic_data_tr\",\n  \"rows\": 2800,\n  \"fields\": [\n    {\n      \"column\": \"label\",\n      \"properties\": {\n        \"dtype\": \"number\",\n        \"std\": 1,\n        \"min\": 0,\n        \"max\": 4,\n        \"num_unique_values\": 5,\n        \"samples\": [\n          0,\n          2,\n          1\n        ],\n        \"semantic_type\": \"\",\n        \"description\": \"\"\n      }\n    },\n    {\n      \"column\": \"text\",\n      \"properties\": {\n        \"dtype\": \"string\",\n        \"num_unique_values\": 2726,\n        \"samples\": [\n          \"I have just started taking allergy shots a month ago and is \\nstill wondering what I am getting into. A friend of mine told\\nme that the body change every 7 years (whatever that means)\\nand I don't need those antibody-building allergy shots at all.\\nDoes that make sense to anyone?\",\n          \"Oops, what the hell a crosspost is this ?!\\n\\nHave a look onto XV-3.00 before saying anything more about it's power.\\n\",\n          \"#|> #|> \\n#|> #|> #This is quite different from saying \\\"Employing force on other people\\n#|> #|> #is immoral, period.   Unfortunately, from time to time we are obliged\\n#|> #|> #to do this immoral thing for reasons of self-preservation, and so\\n#|> #|> #we have to bear the moral consequences of that.\\n#|> #|> \\n#|> #|> Since both statements, to all intents and purposes, say effectively\\n#|> #|> the same thing, \\n#|> #\\n#|> #Are you serious?  Two statements, one of which says that use of force\\n#|> #in the given situation is moral, and the other of which says it is\\n#|> #not moral \\\"say effectively the same thing?\\\"\\n#|> \\n#|> Yes, when you tag on the \\\"Unfortunately, ...\\\", then to all intents and\\n#|> purposes you are saying the same thing.\\n#\\n#Then delete the \\\"unfortunately\\\".   Now tell me that the two statement\\n#say effectively the same thing.\\n#\\n#And to save everyone a couple of trips round this loop, please notice\\n#that we are only obliged to use force to preserve self.   We can choose\\n#*not* to preserve self, which is the point of pacifism.\\n\\nO.K., got you.  I concede your point, though the word \\\"obliged\\\" strongly\\nimplies that one must sometimes use force.  A further rephrasing would\\ngive you the distinction you mention, however.  If I have you right, a pacifist\\nwould not even go on to say, \\\"unfortunately,etc.\\\"\\n\\n#|> #Would you say this of any two statements, one saying \\\"X is moral\\\" and\\n#|> #the other saying \\\"X is immoral?\\\"   How would you decided when two \\n#|> #statements \\\"X is moral\\\" \\\"X is immoral\\\" actually conflict, and when\\n#|> #they \\\"say effectively the same thing\\\".\\n#|> \\n#|> What they prescribe that one should do is a pretty good indicator.\\n#\\n#And in this case they don't prescribe the same things, so.....\\n\\nYes, fair enough, though why confuse things by saying that \\\"one is \\nsomtimes obliged\\\" if the real meaning is that \\\"one is never obliged\\\".\\n\\n#|> #|>                  and lead one to do precisely the same thing, then \\n#|> #|> either both statements are doublespeak, or none.\\n#|> #\\n#|> #They might lead you to do the same thing, but the difference is what\\n#|> #motivates pacifism so they obviously don't lead pacifists to to the\\n#|> #same thing.\\n#|> \\n#|> That's not true.  You could formulate a pragmatic belief in minimum \\n#|> force and still be a pacifist.  If the minimum is 0, great  - but one is\\n#|> always trying to get as close to 0 force as possible under that belief.\\n#|> Not the same as 'force is immoral, period', but still tending to pacifism.\\n#\\n#If you don't think the use of force is immoral, why minimise its use?\\n\\nIf you don't think that it is \\\"immoral, period.\\\".   \"\n        ],\n        \"semantic_type\": \"\",\n        \"description\": \"\"\n      }\n    }\n  ]\n}"
            }
          },
          "metadata": {},
          "execution_count": 120
        }
      ],
      "execution_count": 120
    },
    {
      "cell_type": "code",
      "source": [
        "topic_vocab, topic_df, topic_ngram_counts_tr = get_vocab(topic_tr_textlist, ngram_range=(1,3), keep_topN=5000, stop_words=stop_words)\n",
        "#topic_vocab, topic_df_dev, topic_ngram_counts_dev = get_vocab(topic_dev_textlist, ngram_range=(1,3), keep_topN=5000, stop_words=stop_words)\n",
        "#topic_vocab,topic_df_test,topic_ngram_counts_test = get_vocab(topic_test_textlist, ngram_range=(1,3), keep_topN=5000, stop_words=stop_words)"
      ],
      "metadata": {
        "ExecuteTime": {
          "end_time": "2020-02-15T14:18:03.806523Z",
          "start_time": "2020-02-15T14:18:03.798279Z"
        },
        "id": "PJxxIxHMItlm",
        "trusted": true,
        "execution": {
          "iopub.status.busy": "2025-10-02T12:25:14.963327Z",
          "iopub.execute_input": "2025-10-02T12:25:14.963670Z",
          "iopub.status.idle": "2025-10-02T12:25:37.740708Z",
          "shell.execute_reply.started": "2025-10-02T12:25:14.963644Z",
          "shell.execute_reply": "2025-10-02T12:25:37.739678Z"
        }
      },
      "outputs": [],
      "execution_count": 121
    },
    {
      "cell_type": "code",
      "source": [
        "list_of_vocab = list(topic_vocab)\n",
        "vocab_id_topic = {i:list_of_vocab[i] for i in range(len(topic_vocab))}"
      ],
      "metadata": {
        "id": "xks459SjItln",
        "trusted": true,
        "execution": {
          "iopub.status.busy": "2025-10-02T12:25:43.386972Z",
          "iopub.execute_input": "2025-10-02T12:25:43.387297Z",
          "iopub.status.idle": "2025-10-02T12:25:43.393812Z",
          "shell.execute_reply.started": "2025-10-02T12:25:43.387271Z",
          "shell.execute_reply": "2025-10-02T12:25:43.392673Z"
        }
      },
      "outputs": [],
      "execution_count": 122
    },
    {
      "cell_type": "code",
      "source": [
        "print(len(topic_vocab))\n",
        "print(list(topic_vocab)[:100])\n",
        "print()\n",
        "print(topic_df.most_common()[:10])\n",
        "#print(list_of_vocab[:10])"
      ],
      "metadata": {
        "ExecuteTime": {
          "end_time": "2020-02-15T14:18:04.508938Z",
          "start_time": "2020-02-15T14:18:04.171071Z"
        },
        "scrolled": true,
        "id": "v-x8qDnWItlw",
        "outputId": "4e538d16-f5e5-49cd-89ac-dc0a6755aa80",
        "trusted": true,
        "execution": {
          "iopub.status.busy": "2025-10-02T12:25:46.139875Z",
          "iopub.execute_input": "2025-10-02T12:25:46.140226Z",
          "iopub.status.idle": "2025-10-02T12:25:46.256760Z",
          "shell.execute_reply.started": "2025-10-02T12:25:46.140200Z",
          "shell.execute_reply": "2025-10-02T12:25:46.255685Z"
        },
        "colab": {
          "base_uri": "https://localhost:8080/"
        }
      },
      "outputs": [
        {
          "output_type": "stream",
          "name": "stdout",
          "text": [
            "5000\n",
            "['shareware', 'Sun', 'Colorado', 'depth', 'nanother', 'permanent', 'using', 'Habs', 'In fact', 'visit', 'all sorts', 'Stanford', 'chronic', 'turned', 'admit', 'fitting', 'nproblem', 'posted', 'reason', 'every', 'bother', 'Description', 'assist', 'Guide', 'Engineering', 'solar', 'Macintosh', 'Hall', 'themselves', 'owned', 'aware', 'bringing', 'It would', 'Goal', 'Much', 'ndon', 'rights', 'burden', 'bacteria', 'referring', 'nMark', 'flying', 'manned', 'large', 'yet', 'platform', 'Otto', 'explains', 'berkeley', 'things', 'scale', 'skin', 'raw', 'daughter', 'wisc', 'exposure', 'parents', 'News', 'asking', 'least', 'if re', 'magnetic', 'studies', 'puts', 'much', 'arguments', 'vote', 'second period', 'cares', 'but still', 'not good', 'Pluto', 'preventing', 'comp', 'me some', 'binary', 'Sharks', 'during', 'server', 'rendering', 'easily', 'nonsense', 'automatically', 'Dryden', 'condition', 'ngeb cadre', 'cadre', 'Matthew', 'terminal', 'designed', 'detail', 'same way', 'if don', 'mit edu', 'andrew cmu', 'unc', 'Earth', 'sound', 'Management', 'if not']\n",
            "\n",
            "[('not', 1029), ('but', 960), ('would', 776), ('if', 764), ('about', 744), ('nI', 730), ('one', 649), ('all', 624), ('some', 614), ('out', 613)]\n"
          ]
        }
      ],
      "execution_count": 123
    },
    {
      "cell_type": "code",
      "source": [
        "topic_X_tr_ngram = Extract_X_ngram(topic_tr_textlist)\n",
        "topic_X_tr_count = vectorise(topic_X_tr_ngram,topic_vocab)\n",
        "\n",
        "topic_XDev_ngram = Extract_X_ngram(topic_dev_textlist)\n",
        "topic_X_dev_count = vectorise(topic_XDev_ngram,topic_vocab)\n",
        "\n",
        "topic_XTest_ngram = Extract_X_ngram(topic_test_textlist)\n",
        "topic_X_test_count = vectorise(topic_XTest_ngram,topic_vocab)"
      ],
      "metadata": {
        "ExecuteTime": {
          "end_time": "2020-02-15T14:18:04.706802Z",
          "start_time": "2020-02-15T14:18:04.511061Z"
        },
        "id": "RnBQSkOaItlx",
        "trusted": true,
        "execution": {
          "iopub.status.busy": "2025-10-02T12:25:48.693181Z",
          "iopub.execute_input": "2025-10-02T12:25:48.693483Z",
          "iopub.status.idle": "2025-10-02T12:26:34.492833Z",
          "shell.execute_reply.started": "2025-10-02T12:25:48.693462Z",
          "shell.execute_reply": "2025-10-02T12:26:34.491698Z"
        }
      },
      "outputs": [],
      "execution_count": 124
    },
    {
      "cell_type": "code",
      "source": [
        "def softmax(z):\n",
        "    exp_z = np.exp(z - np.max(z))\n",
        "    return exp_z / np.sum(exp_z)\n",
        "\n",
        "def predict_proba_multi(x, W):\n",
        "    scores = np.dot(W, x)  # (num_classes,)\n",
        "    return softmax(scores)\n",
        "\n",
        "def categorical_loss(X, y, W, num_classes, alpha=0.0):\n",
        "    N = X.shape[0]\n",
        "    loss = 0.0\n",
        "    for i in range(N):\n",
        "        probs = predict_proba_multi(X[i], W)\n",
        "        loss += -np.log(probs[int(y[i])])\n",
        "    loss /= N\n",
        "    loss += alpha * np.sum(W * W)  # regularization\n",
        "    return loss\n",
        "\n",
        "def SGDMulti(X_tr, Y_tr, X_dev=None, Y_dev=None, num_classes=5,\n",
        "             lr=0.001, alpha=0.0001, epochs=5, tolerance=1e-5,\n",
        "             print_progress=True):\n",
        "\n",
        "    training_loss_history = []\n",
        "    validation_loss_history = []\n",
        "\n",
        "    # W: (num_classes, d)\n",
        "    W = np.zeros((num_classes, X_tr.shape[1]))\n",
        "    N = len(Y_tr)\n",
        "\n",
        "    for ep in range(epochs):\n",
        "        np.random.seed(ep + 3)\n",
        "        shuffle_idx = np.random.permutation(N)\n",
        "        X_tr, Y_tr = X_tr[shuffle_idx], Y_tr[shuffle_idx]\n",
        "\n",
        "        for i in range(N):\n",
        "            x = X_tr[i]\n",
        "            y = int(Y_tr[i])\n",
        "            probs = predict_proba_multi(x, W)\n",
        "\n",
        "            for c in range(num_classes):\n",
        "                y_c = 1 if c == y else 0\n",
        "                grad = (probs[c] - y_c) * x + 2 * alpha * W[c]\n",
        "                W[c] -= lr * grad\n",
        "\n",
        "        loss_train = categorical_loss(X_tr, Y_tr, W, num_classes, alpha)\n",
        "        loss_dev = None\n",
        "        if X_dev is not None and Y_dev is not None:\n",
        "            loss_dev = categorical_loss(X_dev, Y_dev, W, num_classes, alpha)\n",
        "\n",
        "        training_loss_history.append(loss_train)\n",
        "        validation_loss_history.append(loss_dev)\n",
        "\n",
        "        if print_progress:\n",
        "            print(f\"Epoch {ep+1}: Train Loss={loss_train:.4f} | Dev Loss={loss_dev:.4f}\")\n",
        "\n",
        "        if ep > 0 and loss_dev is not None:\n",
        "            if abs(validation_loss_history[-2] - validation_loss_history[-1]) < tolerance:\n",
        "                print(\"Tolerance reached -> Early stopping\")\n",
        "                break\n",
        "\n",
        "    return W, training_loss_history, validation_loss_history, ep+1\n",
        "\n",
        "def predict_multi(X, W):\n",
        "    if W.shape[0] != X.shape[1]:\n",
        "        W = W.T\n",
        "\n",
        "    scores = np.dot(X, W)  # (n_samples, n_classes)\n",
        "    exp_scores = np.exp(scores - np.max(scores, axis=1, keepdims=True))\n",
        "    probs = exp_scores / np.sum(exp_scores, axis=1, keepdims=True)\n",
        "    return np.argmax(probs, axis=1)"
      ],
      "metadata": {
        "id": "THLJz6_jO0aQ"
      },
      "execution_count": 125,
      "outputs": []
    },
    {
      "cell_type": "code",
      "source": [
        "topic_w_count, topic_loss_tr_count, topic_dev_loss_count,epochmax3 = SGDMulti(X_tr =topic_X_tr_count, Y_tr = ArrayTR_Topic,\n",
        "                                             X_dev=topic_X_dev_count,\n",
        "                                             Y_dev=ArrayDev_Topic,\n",
        "                                             num_classes=5,\n",
        "                                             lr=0.001,\n",
        "                                             alpha=0.001,\n",
        "                                             epochs=4)"
      ],
      "metadata": {
        "colab": {
          "base_uri": "https://localhost:8080/"
        },
        "id": "RRsOkw8-O2kq",
        "outputId": "dbd17cd6-9acd-48e5-8b51-ea6e9517a3d2"
      },
      "execution_count": 126,
      "outputs": [
        {
          "output_type": "stream",
          "name": "stderr",
          "text": [
            "/tmp/ipython-input-2963460902.py:39: DeprecationWarning: Conversion of an array with ndim > 0 to a scalar is deprecated, and will error in future. Ensure you extract a single element from your array before performing this operation. (Deprecated NumPy 1.25.)\n",
            "  y = int(Y_tr[i])\n",
            "/tmp/ipython-input-2963460902.py:16: DeprecationWarning: Conversion of an array with ndim > 0 to a scalar is deprecated, and will error in future. Ensure you extract a single element from your array before performing this operation. (Deprecated NumPy 1.25.)\n",
            "  loss += -np.log(probs[int(y[i])])\n"
          ]
        },
        {
          "output_type": "stream",
          "name": "stdout",
          "text": [
            "Epoch 1: Train Loss=1.1549 | Dev Loss=1.1908\n",
            "Epoch 2: Train Loss=0.9968 | Dev Loss=1.0482\n",
            "Epoch 3: Train Loss=0.9039 | Dev Loss=0.9660\n",
            "Epoch 4: Train Loss=0.8401 | Dev Loss=0.9104\n"
          ]
        }
      ]
    },
    {
      "cell_type": "code",
      "source": [
        "epochs_arr = np.arange(1, epochmax3 + 1)\n",
        "\n",
        "plt.figure(figsize=(8,5))\n",
        "with plt.style.context('Solarize_Light2'):\n",
        "    plt.plot(epochs_arr, topic_loss_tr_count, marker='o', label=\"Training Loss\")\n",
        "    plt.plot(epochs_arr, topic_dev_loss_count, marker='s', label=\"Validation Loss\")\n",
        "    plt.xlabel('Epoch', fontsize=14)\n",
        "    plt.ylabel('Loss', fontsize=14)\n",
        "    plt.title('Training & Validation Loss per Epoch (Count Vectors)', fontsize=14)\n",
        "    plt.legend()\n",
        "    plt.grid(True)\n",
        "plt.show()"
      ],
      "metadata": {
        "colab": {
          "base_uri": "https://localhost:8080/",
          "height": 493
        },
        "id": "MCAjQKr5RZiO",
        "outputId": "6afdfff9-3e46-48ca-8788-71d8febac724"
      },
      "execution_count": 127,
      "outputs": [
        {
          "output_type": "display_data",
          "data": {
            "text/plain": [
              "<Figure size 800x500 with 1 Axes>"
            ],
            "image/png": "[encoded data removed]"
          },
          "metadata": {}
        }
      ]
    },
    {
      "cell_type": "code",
      "source": [
        "y_pred_train = predict_multi(topic_X_tr_count, topic_w_count)\n",
        "y_pred_dev   = predict_multi(topic_X_dev_count, topic_w_count)\n",
        "y_pred_test  = predict_multi(topic_X_test_count, topic_w_count)\n",
        "\n",
        "# ======================\n",
        "# Training set\n",
        "# ======================\n",
        "print(\"=== Training Set ===\")\n",
        "print(\"Accuracy :\", accuracy_score(ArrayTR_Topic, y_pred_train))\n",
        "print(\"Precision:\", precision_score(ArrayTR_Topic, y_pred_train, average='macro'))\n",
        "print(\"Recall   :\", recall_score(ArrayTR_Topic, y_pred_train, average='macro'))\n",
        "print(\"F1-Score :\", f1_score(ArrayTR_Topic, y_pred_train, average='macro'))\n",
        "\n",
        "# ======================\n",
        "# Dev set\n",
        "# ======================\n",
        "print(\"\\n=== Dev Set ===\")\n",
        "print(\"Accuracy :\", accuracy_score(ArrayDev_Topic, y_pred_dev))\n",
        "print(\"Precision:\", precision_score(ArrayDev_Topic, y_pred_dev, average='macro'))\n",
        "print(\"Recall   :\", recall_score(ArrayDev_Topic, y_pred_dev, average='macro'))\n",
        "print(\"F1-Score :\", f1_score(ArrayDev_Topic, y_pred_dev, average='macro'))\n",
        "\n",
        "print(\"Confusion Matrix (Dev set):\")\n",
        "print(confusion_matrix(ArrayDev_Topic, y_pred_dev))\n",
        "\n",
        "# ======================\n",
        "# Test set\n",
        "# ======================\n",
        "print(\"\\n=== Test Set ===\")\n",
        "print(\"Accuracy :\", accuracy_score(ArrayTest_Topic, y_pred_test))\n",
        "print(\"Precision:\", precision_score(ArrayTest_Topic, y_pred_test, average='macro'))\n",
        "print(\"Recall   :\", recall_score(ArrayTest_Topic, y_pred_test, average='macro'))\n",
        "print(\"F1-Score :\", f1_score(ArrayTest_Topic, y_pred_test, average='macro'))\n",
        "\n",
        "print(\"Confusion Matrix (Test set):\")\n",
        "print(confusion_matrix(ArrayTest_Topic, y_pred_test))\n"
      ],
      "metadata": {
        "colab": {
          "base_uri": "https://localhost:8080/"
        },
        "id": "trfZkq6YRsFx",
        "outputId": "a430ed7e-b275-472e-f577-04d381c1f944"
      },
      "execution_count": 128,
      "outputs": [
        {
          "output_type": "stream",
          "name": "stdout",
          "text": [
            "=== Training Set ===\n",
            "Accuracy : 0.8453571428571428\n",
            "Precision: 0.8539419576742141\n",
            "Recall   : 0.8377146981472855\n",
            "F1-Score : 0.8425159424843546\n",
            "\n",
            "=== Dev Set ===\n",
            "Accuracy : 0.7883333333333333\n",
            "Precision: 0.8005119445717593\n",
            "Recall   : 0.7794932805598181\n",
            "F1-Score : 0.785477654942866\n",
            "Confusion Matrix (Dev set):\n",
            "[[110   0   9   8   0]\n",
            " [  8 109   6   5   3]\n",
            " [ 20   1 101   4   4]\n",
            " [ 14   3  11  98   3]\n",
            " [  4   5  10   9  55]]\n",
            "\n",
            "=== Test Set ===\n",
            "Accuracy : 0.7866666666666666\n",
            "Precision: 0.7845590564174703\n",
            "Recall   : 0.771997786491857\n",
            "F1-Score : 0.7750565389776789\n",
            "Confusion Matrix (Test set):\n",
            "[[111   3   7   6   1]\n",
            " [  3 111   6   2   9]\n",
            " [ 12   3 105   6   3]\n",
            " [ 15   2  12  97   4]\n",
            " [  7   6  11  10  48]]\n"
          ]
        }
      ]
    },
    {
      "cell_type": "code",
      "source": [
        "# --- Test set metrics bar chart ---\n",
        "acc  = accuracy_score(ArrayTest_Topic, y_pred_test)\n",
        "prec = precision_score(ArrayTest_Topic, y_pred_test, average='macro')\n",
        "rec  = recall_score(ArrayTest_Topic, y_pred_test, average='macro')\n",
        "f1   = f1_score(ArrayTest_Topic, y_pred_test, average='macro')\n",
        "\n",
        "metrics = [acc, prec, rec, f1]\n",
        "names = [\"Accuracy\", \"Precision\", \"Recall\", \"F1-score\"]\n",
        "\n",
        "plt.figure(figsize=(7,5))\n",
        "sns.barplot(x=names, y=metrics, palette=\"viridis\")\n",
        "plt.ylim(0,1)\n",
        "plt.title(\"Evaluation Metrics on Test Set\")\n",
        "for i, v in enumerate(metrics):\n",
        "    plt.text(i, v + 0.02, f\"{v:.2f}\", ha='center', fontsize=12)\n",
        "plt.show()\n",
        "\n",
        "# --- Confusion Matrix (Test set) heatmap ---\n",
        "cm_test = confusion_matrix(ArrayTest_Topic, y_pred_test)\n",
        "plt.figure(figsize=(6,5))\n",
        "sns.heatmap(cm_test, annot=True, fmt=\"d\", cmap=\"Blues\")\n",
        "plt.title(\"Confusion Matrix - Test Set\")\n",
        "plt.xlabel(\"Predicted\")\n",
        "plt.ylabel(\"True\")\n",
        "plt.show()"
      ],
      "metadata": {
        "colab": {
          "base_uri": "https://localhost:8080/",
          "height": 1000
        },
        "id": "y2up1b8GYhwY",
        "outputId": "03d2925f-0e53-4886-e53c-7a86ef708e01"
      },
      "execution_count": 135,
      "outputs": [
        {
          "output_type": "stream",
          "name": "stderr",
          "text": [
            "/tmp/ipython-input-1160849350.py:11: FutureWarning: \n",
            "\n",
            "Passing `palette` without assigning `hue` is deprecated and will be removed in v0.14.0. Assign the `x` variable to `hue` and set `legend=False` for the same effect.\n",
            "\n",
            "  sns.barplot(x=names, y=metrics, palette=\"viridis\")\n"
          ]
        },
        {
          "output_type": "display_data",
          "data": {
            "text/plain": [
              "<Figure size 700x500 with 1 Axes>"
            ],
            "image/png": "[encoded data removed]"
          },
          "metadata": {}
        },
        {
          "output_type": "display_data",
          "data": {
            "text/plain": [
              "<Figure size 600x500 with 2 Axes>"
            ],
            "image/png": "[encoded data removed]"
          },
          "metadata": {}
        }
      ]
    },
    {
      "cell_type": "code",
      "source": [
        "# 1. New input\n",
        "new_sentence = [\"NASA announced a new mission to send astronauts to Mars by 2035.\"]\n",
        "\n",
        "# 2. Convert sentence to n-gram\n",
        "new_sentence_ngram = Extract_X_ngram(new_sentence)\n",
        "\n",
        "# 3. Vectorize\n",
        "X_new_count = vectorise(new_sentence_ngram, list_of_vocab)\n",
        "\n",
        "# 4. Predict numeric label\n",
        "y_pred = predict_multi(X_new_count, topic_w_count)\n",
        "\n",
        "# 5. Map numeric label to class name\n",
        "categories = ['sci.med', 'rec.sport.hockey', 'sci.space', 'talk.religion.misc', 'comp.graphics']\n",
        "newsgroups_train = fetch_20newsgroups(\n",
        "    subset='train',\n",
        "    categories=categories,\n",
        "    remove=('headers','footers','quotes')\n",
        ")\n",
        "\n",
        "# mapping số → tên class\n",
        "label_to_class = {i: name for i, name in enumerate(newsgroups_train.target_names)}\n",
        "\n",
        "print(\"Sentence:\", new_sentence[0])\n",
        "print(\"Predicted label (number):\", y_pred[0])\n",
        "print(\"Predicted class name    :\", label_to_class[y_pred[0]])\n"
      ],
      "metadata": {
        "trusted": true,
        "execution": {
          "iopub.status.busy": "2025-10-02T12:28:19.969072Z",
          "iopub.execute_input": "2025-10-02T12:28:19.969372Z",
          "iopub.status.idle": "2025-10-02T12:28:21.299407Z",
          "shell.execute_reply.started": "2025-10-02T12:28:19.969351Z",
          "shell.execute_reply": "2025-10-02T12:28:21.298540Z"
        },
        "id": "CF4NjYMF5313",
        "outputId": "2b97b9c5-4227-4b6d-e48a-f686d1c0a5c1",
        "colab": {
          "base_uri": "https://localhost:8080/"
        }
      },
      "outputs": [
        {
          "output_type": "stream",
          "name": "stdout",
          "text": [
            "Sentence: NASA announced a new mission to send astronauts to Mars by 2035.\n",
            "Predicted label (number): 3\n",
            "Predicted class name    : sci.space\n"
          ]
        }
      ],
      "execution_count": 138
    },
    {
      "cell_type": "code",
      "source": [],
      "metadata": {
        "id": "Sw_1XdntZwXz"
      },
      "execution_count": null,
      "outputs": []
    }
  ]
}